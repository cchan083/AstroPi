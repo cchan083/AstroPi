{
 "cells": [
  {
   "cell_type": "markdown",
   "metadata": {},
   "source": [
    "# Solar Wind investigation + Classification algorithm"
   ]
  },
  {
   "cell_type": "code",
   "execution_count": 1,
   "metadata": {
    "ExecuteTime": {
     "end_time": "2025-02-13T21:38:16.030557Z",
     "start_time": "2025-02-13T21:38:14.515708Z"
    }
   },
   "outputs": [],
   "source": [
    "import pandas as pd\n",
    "import matplotlib.pyplot as plt    "
   ]
  },
  {
   "cell_type": "markdown",
   "metadata": {},
   "source": [
    "## Data Cleaning and exploration"
   ]
  },
  {
   "cell_type": "code",
   "execution_count": 2,
   "metadata": {
    "ExecuteTime": {
     "end_time": "2025-02-13T21:38:18.892948Z",
     "start_time": "2025-02-13T21:38:18.686026Z"
    }
   },
   "outputs": [
    {
     "data": {
      "text/html": [
       "<div>\n",
       "<style scoped>\n",
       "    .dataframe tbody tr th:only-of-type {\n",
       "        vertical-align: middle;\n",
       "    }\n",
       "\n",
       "    .dataframe tbody tr th {\n",
       "        vertical-align: top;\n",
       "    }\n",
       "\n",
       "    .dataframe thead th {\n",
       "        text-align: right;\n",
       "    }\n",
       "</style>\n",
       "<table border=\"1\" class=\"dataframe\">\n",
       "  <thead>\n",
       "    <tr style=\"text-align: right;\">\n",
       "      <th></th>\n",
       "      <th>period</th>\n",
       "      <th>timedelta</th>\n",
       "      <th>bx_gse</th>\n",
       "      <th>by_gse</th>\n",
       "      <th>bz_gse</th>\n",
       "      <th>theta_gse</th>\n",
       "      <th>phi_gse</th>\n",
       "      <th>bx_gsm</th>\n",
       "      <th>by_gsm</th>\n",
       "      <th>bz_gsm</th>\n",
       "      <th>theta_gsm</th>\n",
       "      <th>phi_gsm</th>\n",
       "      <th>bt</th>\n",
       "      <th>density</th>\n",
       "      <th>speed</th>\n",
       "      <th>temperature</th>\n",
       "      <th>source</th>\n",
       "    </tr>\n",
       "  </thead>\n",
       "  <tbody>\n",
       "    <tr>\n",
       "      <th>0</th>\n",
       "      <td>train_a</td>\n",
       "      <td>0 days 00:00:00</td>\n",
       "      <td>-5.55</td>\n",
       "      <td>3.00</td>\n",
       "      <td>1.25</td>\n",
       "      <td>11.09</td>\n",
       "      <td>153.37</td>\n",
       "      <td>-5.55</td>\n",
       "      <td>3.00</td>\n",
       "      <td>1.25</td>\n",
       "      <td>11.09</td>\n",
       "      <td>153.37</td>\n",
       "      <td>6.80</td>\n",
       "      <td>1.53</td>\n",
       "      <td>383.92</td>\n",
       "      <td>110237.0</td>\n",
       "      <td>ac</td>\n",
       "    </tr>\n",
       "    <tr>\n",
       "      <th>1</th>\n",
       "      <td>train_a</td>\n",
       "      <td>0 days 00:01:00</td>\n",
       "      <td>-5.58</td>\n",
       "      <td>3.16</td>\n",
       "      <td>1.17</td>\n",
       "      <td>10.10</td>\n",
       "      <td>151.91</td>\n",
       "      <td>-5.58</td>\n",
       "      <td>3.16</td>\n",
       "      <td>1.17</td>\n",
       "      <td>10.10</td>\n",
       "      <td>151.91</td>\n",
       "      <td>6.83</td>\n",
       "      <td>1.69</td>\n",
       "      <td>381.79</td>\n",
       "      <td>123825.0</td>\n",
       "      <td>ac</td>\n",
       "    </tr>\n",
       "    <tr>\n",
       "      <th>2</th>\n",
       "      <td>train_a</td>\n",
       "      <td>0 days 00:02:00</td>\n",
       "      <td>-5.15</td>\n",
       "      <td>3.66</td>\n",
       "      <td>0.85</td>\n",
       "      <td>7.87</td>\n",
       "      <td>146.04</td>\n",
       "      <td>-5.15</td>\n",
       "      <td>3.66</td>\n",
       "      <td>0.85</td>\n",
       "      <td>7.87</td>\n",
       "      <td>146.04</td>\n",
       "      <td>6.77</td>\n",
       "      <td>1.97</td>\n",
       "      <td>389.11</td>\n",
       "      <td>82548.0</td>\n",
       "      <td>ac</td>\n",
       "    </tr>\n",
       "    <tr>\n",
       "      <th>3</th>\n",
       "      <td>train_a</td>\n",
       "      <td>0 days 00:03:00</td>\n",
       "      <td>-5.20</td>\n",
       "      <td>3.68</td>\n",
       "      <td>0.68</td>\n",
       "      <td>6.17</td>\n",
       "      <td>146.17</td>\n",
       "      <td>-5.20</td>\n",
       "      <td>3.68</td>\n",
       "      <td>0.68</td>\n",
       "      <td>6.17</td>\n",
       "      <td>146.17</td>\n",
       "      <td>6.74</td>\n",
       "      <td>1.97</td>\n",
       "      <td>389.11</td>\n",
       "      <td>82548.0</td>\n",
       "      <td>ac</td>\n",
       "    </tr>\n",
       "    <tr>\n",
       "      <th>4</th>\n",
       "      <td>train_a</td>\n",
       "      <td>0 days 00:04:00</td>\n",
       "      <td>-5.12</td>\n",
       "      <td>3.68</td>\n",
       "      <td>0.49</td>\n",
       "      <td>4.62</td>\n",
       "      <td>145.72</td>\n",
       "      <td>-5.12</td>\n",
       "      <td>3.68</td>\n",
       "      <td>0.49</td>\n",
       "      <td>4.62</td>\n",
       "      <td>145.72</td>\n",
       "      <td>6.65</td>\n",
       "      <td>1.77</td>\n",
       "      <td>384.26</td>\n",
       "      <td>94269.0</td>\n",
       "      <td>ac</td>\n",
       "    </tr>\n",
       "  </tbody>\n",
       "</table>\n",
       "</div>"
      ],
      "text/plain": [
       "    period        timedelta  bx_gse  by_gse  bz_gse  theta_gse  phi_gse  \\\n",
       "0  train_a  0 days 00:00:00   -5.55    3.00    1.25      11.09   153.37   \n",
       "1  train_a  0 days 00:01:00   -5.58    3.16    1.17      10.10   151.91   \n",
       "2  train_a  0 days 00:02:00   -5.15    3.66    0.85       7.87   146.04   \n",
       "3  train_a  0 days 00:03:00   -5.20    3.68    0.68       6.17   146.17   \n",
       "4  train_a  0 days 00:04:00   -5.12    3.68    0.49       4.62   145.72   \n",
       "\n",
       "   bx_gsm  by_gsm  bz_gsm  theta_gsm  phi_gsm    bt  density   speed  \\\n",
       "0   -5.55    3.00    1.25      11.09   153.37  6.80     1.53  383.92   \n",
       "1   -5.58    3.16    1.17      10.10   151.91  6.83     1.69  381.79   \n",
       "2   -5.15    3.66    0.85       7.87   146.04  6.77     1.97  389.11   \n",
       "3   -5.20    3.68    0.68       6.17   146.17  6.74     1.97  389.11   \n",
       "4   -5.12    3.68    0.49       4.62   145.72  6.65     1.77  384.26   \n",
       "\n",
       "   temperature source  \n",
       "0     110237.0     ac  \n",
       "1     123825.0     ac  \n",
       "2      82548.0     ac  \n",
       "3      82548.0     ac  \n",
       "4      94269.0     ac  "
      ]
     },
     "execution_count": 2,
     "metadata": {},
     "output_type": "execute_result"
    }
   ],
   "source": [
    "df = pd.read_csv('solar_wind.csv')\n",
    "df.head()"
   ]
  },
  {
   "cell_type": "code",
   "execution_count": 3,
   "metadata": {},
   "outputs": [],
   "source": [
    "df.drop([\n",
    "    'bx_gsm',\n",
    "    'by_gsm',\n",
    "    'bz_gsm',\n",
    "    'density',\n",
    "    'source',\n",
    "    'temperature',\n",
    "    'phi_gsm',\n",
    "    'theta_gse',\n",
    "    'phi_gse',\n",
    "    'theta_gsm',\n",
    "    'bt',\n",
    "    'speed'],errors='ignore', axis=1, inplace=True)"
   ]
  },
  {
   "cell_type": "code",
   "execution_count": 4,
   "metadata": {},
   "outputs": [
    {
     "data": {
      "text/plain": [
       "(8392320, 5)"
      ]
     },
     "execution_count": 4,
     "metadata": {},
     "output_type": "execute_result"
    }
   ],
   "source": [
    "df.shape\n"
   ]
  },
  {
   "cell_type": "code",
   "execution_count": 5,
   "metadata": {},
   "outputs": [
    {
     "data": {
      "text/plain": [
       "(1729440, 5)"
      ]
     },
     "execution_count": 5,
     "metadata": {},
     "output_type": "execute_result"
    }
   ],
   "source": [
    "train_a = df.loc[df['period'] == 'train_a']\n",
    "train_a.shape"
   ]
  },
  {
   "cell_type": "markdown",
   "metadata": {},
   "source": [
    "### Drop missing values"
   ]
  },
  {
   "cell_type": "code",
   "execution_count": 6,
   "metadata": {},
   "outputs": [],
   "source": [
    "clean_train_a = train_a.dropna()"
   ]
  },
  {
   "cell_type": "code",
   "execution_count": 7,
   "metadata": {},
   "outputs": [
    {
     "data": {
      "text/plain": [
       "np.float64(41.13)"
      ]
     },
     "execution_count": 7,
     "metadata": {},
     "output_type": "execute_result"
    }
   ],
   "source": [
    "train_a = df.loc[df['period'] == 'train_a']\n",
    "train_a['bx_gse'].max()\n"
   ]
  },
  {
   "cell_type": "markdown",
   "metadata": {},
   "source": [
    "Interquartile Range"
   ]
  },
  {
   "cell_type": "code",
   "execution_count": 8,
   "metadata": {},
   "outputs": [],
   "source": [
    "higher_q = clean_train_a['bx_gse'].quantile(0.75)\n",
    "lower_q = clean_train_a['bx_gse'].quantile(0.25)\n",
    "iqr = higher_q - lower_q"
   ]
  },
  {
   "cell_type": "code",
   "execution_count": 9,
   "metadata": {},
   "outputs": [
    {
     "data": {
      "text/plain": [
       "np.float64(11.315000000000001)"
      ]
     },
     "execution_count": 9,
     "metadata": {},
     "output_type": "execute_result"
    }
   ],
   "source": [
    "higher_q + (1.5 * iqr)"
   ]
  },
  {
   "cell_type": "code",
   "execution_count": 10,
   "metadata": {},
   "outputs": [
    {
     "data": {
      "text/plain": [
       "np.float64(-17.356849383888363)"
      ]
     },
     "execution_count": 10,
     "metadata": {},
     "output_type": "execute_result"
    }
   ],
   "source": [
    "standard_deviation = train_a['bx_gse'].std()\n",
    "lower_threshold = standard_deviation * -4\n",
    "higher_threshold = standard_deviation * 4\n",
    "lower_threshold"
   ]
  },
  {
   "cell_type": "code",
   "execution_count": 11,
   "metadata": {},
   "outputs": [
    {
     "data": {
      "image/png": "[encoded data removed]",
      "text/plain": [
       "<Figure size 1000x600 with 1 Axes>"
      ]
     },
     "metadata": {},
     "output_type": "display_data"
    }
   ],
   "source": [
    "fig, ax = plt.subplots(figsize=(10,6))\n",
    "\n",
    "\n",
    "ax.plot(clean_train_a.index, clean_train_a['bx_gse'], color= 'skyblue', marker = 'o', label='X')\n",
    "ax.plot(clean_train_a.index, clean_train_a['by_gse'], color='salmon', marker='o', label='Y')\n",
    "ax.plot(clean_train_a.index, clean_train_a['bz_gse'], color = 'lightgray', marker='o', label='Z')\n",
    "\n",
    "ax.axhline(y=higher_threshold, color='black', linestyle='dashed')\n",
    "ax.axhline(y=lower_threshold, color='black', linestyle = 'dashed')\n",
    "\n",
    "\n",
    "ax.set_xlabel('Time')\n",
    "ax.set_ylabel('Magentic strength in μT')\n",
    "\n",
    "\n",
    "ax.legend()\n",
    "plt.savefig('plot.png')\n"
   ]
  },
  {
   "cell_type": "markdown",
   "metadata": {},
   "source": [
    "### Feature Engineering"
   ]
  },
  {
   "cell_type": "code",
   "execution_count": 12,
   "metadata": {},
   "outputs": [
    {
     "data": {
      "text/plain": [
       "(1575012, 5)"
      ]
     },
     "execution_count": 12,
     "metadata": {},
     "output_type": "execute_result"
    }
   ],
   "source": [
    "filtered_train_a = clean_train_a.dropna()\n",
    "filtered_train_a.shape"
   ]
  },
  {
   "cell_type": "code",
   "execution_count": 13,
   "metadata": {},
   "outputs": [
    {
     "data": {
      "text/html": [
       "<div>\n",
       "<style scoped>\n",
       "    .dataframe tbody tr th:only-of-type {\n",
       "        vertical-align: middle;\n",
       "    }\n",
       "\n",
       "    .dataframe tbody tr th {\n",
       "        vertical-align: top;\n",
       "    }\n",
       "\n",
       "    .dataframe thead th {\n",
       "        text-align: right;\n",
       "    }\n",
       "</style>\n",
       "<table border=\"1\" class=\"dataframe\">\n",
       "  <thead>\n",
       "    <tr style=\"text-align: right;\">\n",
       "      <th></th>\n",
       "      <th>period</th>\n",
       "      <th>timedelta</th>\n",
       "      <th>bx_gse</th>\n",
       "      <th>by_gse</th>\n",
       "      <th>bz_gse</th>\n",
       "      <th>Magnitude</th>\n",
       "    </tr>\n",
       "  </thead>\n",
       "  <tbody>\n",
       "    <tr>\n",
       "      <th>0</th>\n",
       "      <td>train_a</td>\n",
       "      <td>0 days 00:00:00</td>\n",
       "      <td>-5.55</td>\n",
       "      <td>3.00</td>\n",
       "      <td>1.25</td>\n",
       "      <td>6.431563</td>\n",
       "    </tr>\n",
       "    <tr>\n",
       "      <th>1</th>\n",
       "      <td>train_a</td>\n",
       "      <td>0 days 00:01:00</td>\n",
       "      <td>-5.58</td>\n",
       "      <td>3.16</td>\n",
       "      <td>1.17</td>\n",
       "      <td>6.518504</td>\n",
       "    </tr>\n",
       "    <tr>\n",
       "      <th>2</th>\n",
       "      <td>train_a</td>\n",
       "      <td>0 days 00:02:00</td>\n",
       "      <td>-5.15</td>\n",
       "      <td>3.66</td>\n",
       "      <td>0.85</td>\n",
       "      <td>6.374998</td>\n",
       "    </tr>\n",
       "    <tr>\n",
       "      <th>3</th>\n",
       "      <td>train_a</td>\n",
       "      <td>0 days 00:03:00</td>\n",
       "      <td>-5.20</td>\n",
       "      <td>3.68</td>\n",
       "      <td>0.68</td>\n",
       "      <td>6.406622</td>\n",
       "    </tr>\n",
       "    <tr>\n",
       "      <th>4</th>\n",
       "      <td>train_a</td>\n",
       "      <td>0 days 00:04:00</td>\n",
       "      <td>-5.12</td>\n",
       "      <td>3.68</td>\n",
       "      <td>0.49</td>\n",
       "      <td>6.324310</td>\n",
       "    </tr>\n",
       "  </tbody>\n",
       "</table>\n",
       "</div>"
      ],
      "text/plain": [
       "    period        timedelta  bx_gse  by_gse  bz_gse  Magnitude\n",
       "0  train_a  0 days 00:00:00   -5.55    3.00    1.25   6.431563\n",
       "1  train_a  0 days 00:01:00   -5.58    3.16    1.17   6.518504\n",
       "2  train_a  0 days 00:02:00   -5.15    3.66    0.85   6.374998\n",
       "3  train_a  0 days 00:03:00   -5.20    3.68    0.68   6.406622\n",
       "4  train_a  0 days 00:04:00   -5.12    3.68    0.49   6.324310"
      ]
     },
     "execution_count": 13,
     "metadata": {},
     "output_type": "execute_result"
    }
   ],
   "source": [
    "filtered_train_a['Magnitude'] = ((filtered_train_a['bx_gse']**2) + (filtered_train_a['by_gse'] ** 2) + (filtered_train_a['bz_gse'] ** 2)) ** 0.5\n",
    "filtered_train_a.head()"
   ]
  },
  {
   "cell_type": "code",
   "execution_count": 14,
   "metadata": {},
   "outputs": [
    {
     "data": {
      "text/plain": [
       "np.float64(-14.79410068988208)"
      ]
     },
     "execution_count": 14,
     "metadata": {},
     "output_type": "execute_result"
    }
   ],
   "source": [
    "standard_deviation = filtered_train_a['Magnitude'].std()\n",
    "lower_threshold = standard_deviation * -4\n",
    "higher_threshold = standard_deviation * 4\n",
    "lower_threshold"
   ]
  },
  {
   "cell_type": "code",
   "execution_count": 15,
   "metadata": {},
   "outputs": [
    {
     "data": {
      "text/html": [
       "<div>\n",
       "<style scoped>\n",
       "    .dataframe tbody tr th:only-of-type {\n",
       "        vertical-align: middle;\n",
       "    }\n",
       "\n",
       "    .dataframe tbody tr th {\n",
       "        vertical-align: top;\n",
       "    }\n",
       "\n",
       "    .dataframe thead th {\n",
       "        text-align: right;\n",
       "    }\n",
       "</style>\n",
       "<table border=\"1\" class=\"dataframe\">\n",
       "  <thead>\n",
       "    <tr style=\"text-align: right;\">\n",
       "      <th></th>\n",
       "      <th>Magnitude</th>\n",
       "    </tr>\n",
       "  </thead>\n",
       "  <tbody>\n",
       "    <tr>\n",
       "      <th>2788</th>\n",
       "      <td>14.952201</td>\n",
       "    </tr>\n",
       "    <tr>\n",
       "      <th>2789</th>\n",
       "      <td>15.364771</td>\n",
       "    </tr>\n",
       "    <tr>\n",
       "      <th>2790</th>\n",
       "      <td>15.094787</td>\n",
       "    </tr>\n",
       "    <tr>\n",
       "      <th>2791</th>\n",
       "      <td>15.262130</td>\n",
       "    </tr>\n",
       "    <tr>\n",
       "      <th>2793</th>\n",
       "      <td>14.871241</td>\n",
       "    </tr>\n",
       "    <tr>\n",
       "      <th>...</th>\n",
       "      <td>...</td>\n",
       "    </tr>\n",
       "    <tr>\n",
       "      <th>1716911</th>\n",
       "      <td>15.460110</td>\n",
       "    </tr>\n",
       "    <tr>\n",
       "      <th>1716912</th>\n",
       "      <td>15.399864</td>\n",
       "    </tr>\n",
       "    <tr>\n",
       "      <th>1716913</th>\n",
       "      <td>15.361969</td>\n",
       "    </tr>\n",
       "    <tr>\n",
       "      <th>1716914</th>\n",
       "      <td>15.392079</td>\n",
       "    </tr>\n",
       "    <tr>\n",
       "      <th>1716915</th>\n",
       "      <td>15.243162</td>\n",
       "    </tr>\n",
       "  </tbody>\n",
       "</table>\n",
       "<p>61827 rows × 1 columns</p>\n",
       "</div>"
      ],
      "text/plain": [
       "         Magnitude\n",
       "2788     14.952201\n",
       "2789     15.364771\n",
       "2790     15.094787\n",
       "2791     15.262130\n",
       "2793     14.871241\n",
       "...            ...\n",
       "1716911  15.460110\n",
       "1716912  15.399864\n",
       "1716913  15.361969\n",
       "1716914  15.392079\n",
       "1716915  15.243162\n",
       "\n",
       "[61827 rows x 1 columns]"
      ]
     },
     "execution_count": 15,
     "metadata": {},
     "output_type": "execute_result"
    }
   ],
   "source": [
    "#clean_train_a['Irregular_Activity'] = (clean_train_a['bx_gse'] > higher_q + (1.5*iqr) ) | (clean_train_a['bx_gse'] < lower_q - (1.5 * iqr) )\n",
    "filtered_train_a['Irregular_Activity'] = (filtered_train_a['Magnitude'] > higher_threshold) | (filtered_train_a['Magnitude'] < lower_threshold)\n",
    "filtered_train_a.loc[filtered_train_a['Irregular_Activity'] == True, ['Magnitude']]"
   ]
  },
  {
   "cell_type": "code",
   "execution_count": 16,
   "metadata": {},
   "outputs": [],
   "source": [
    "filtered_train_a['filtered_x'] = clean_train_a['bx_gse']"
   ]
  },
  {
   "cell_type": "code",
   "execution_count": 17,
   "metadata": {},
   "outputs": [
    {
     "data": {
      "text/html": [
       "<div>\n",
       "<style scoped>\n",
       "    .dataframe tbody tr th:only-of-type {\n",
       "        vertical-align: middle;\n",
       "    }\n",
       "\n",
       "    .dataframe tbody tr th {\n",
       "        vertical-align: top;\n",
       "    }\n",
       "\n",
       "    .dataframe thead th {\n",
       "        text-align: right;\n",
       "    }\n",
       "</style>\n",
       "<table border=\"1\" class=\"dataframe\">\n",
       "  <thead>\n",
       "    <tr style=\"text-align: right;\">\n",
       "      <th></th>\n",
       "      <th>period</th>\n",
       "      <th>timedelta</th>\n",
       "      <th>bx_gse</th>\n",
       "      <th>by_gse</th>\n",
       "      <th>bz_gse</th>\n",
       "      <th>Magnitude</th>\n",
       "      <th>Irregular_Activity</th>\n",
       "      <th>filtered_x</th>\n",
       "    </tr>\n",
       "  </thead>\n",
       "  <tbody>\n",
       "    <tr>\n",
       "      <th>2788</th>\n",
       "      <td>train_a</td>\n",
       "      <td>1 days 22:28:00</td>\n",
       "      <td>-1.77</td>\n",
       "      <td>9.05</td>\n",
       "      <td>-11.77</td>\n",
       "      <td>14.952201</td>\n",
       "      <td>True</td>\n",
       "      <td>-1.77</td>\n",
       "    </tr>\n",
       "    <tr>\n",
       "      <th>2789</th>\n",
       "      <td>train_a</td>\n",
       "      <td>1 days 22:29:00</td>\n",
       "      <td>-2.49</td>\n",
       "      <td>9.95</td>\n",
       "      <td>-11.44</td>\n",
       "      <td>15.364771</td>\n",
       "      <td>True</td>\n",
       "      <td>-2.49</td>\n",
       "    </tr>\n",
       "    <tr>\n",
       "      <th>2790</th>\n",
       "      <td>train_a</td>\n",
       "      <td>1 days 22:30:00</td>\n",
       "      <td>-2.26</td>\n",
       "      <td>10.01</td>\n",
       "      <td>-11.07</td>\n",
       "      <td>15.094787</td>\n",
       "      <td>True</td>\n",
       "      <td>-2.26</td>\n",
       "    </tr>\n",
       "    <tr>\n",
       "      <th>2791</th>\n",
       "      <td>train_a</td>\n",
       "      <td>1 days 22:31:00</td>\n",
       "      <td>-1.93</td>\n",
       "      <td>9.41</td>\n",
       "      <td>-11.86</td>\n",
       "      <td>15.262130</td>\n",
       "      <td>True</td>\n",
       "      <td>-1.93</td>\n",
       "    </tr>\n",
       "    <tr>\n",
       "      <th>2793</th>\n",
       "      <td>train_a</td>\n",
       "      <td>1 days 22:33:00</td>\n",
       "      <td>-2.05</td>\n",
       "      <td>8.37</td>\n",
       "      <td>-12.12</td>\n",
       "      <td>14.871241</td>\n",
       "      <td>True</td>\n",
       "      <td>-2.05</td>\n",
       "    </tr>\n",
       "    <tr>\n",
       "      <th>...</th>\n",
       "      <td>...</td>\n",
       "      <td>...</td>\n",
       "      <td>...</td>\n",
       "      <td>...</td>\n",
       "      <td>...</td>\n",
       "      <td>...</td>\n",
       "      <td>...</td>\n",
       "      <td>...</td>\n",
       "    </tr>\n",
       "    <tr>\n",
       "      <th>1716911</th>\n",
       "      <td>train_a</td>\n",
       "      <td>1192 days 07:11:00</td>\n",
       "      <td>-8.30</td>\n",
       "      <td>12.75</td>\n",
       "      <td>2.75</td>\n",
       "      <td>15.460110</td>\n",
       "      <td>True</td>\n",
       "      <td>-8.30</td>\n",
       "    </tr>\n",
       "    <tr>\n",
       "      <th>1716912</th>\n",
       "      <td>train_a</td>\n",
       "      <td>1192 days 07:12:00</td>\n",
       "      <td>-8.07</td>\n",
       "      <td>12.78</td>\n",
       "      <td>2.95</td>\n",
       "      <td>15.399864</td>\n",
       "      <td>True</td>\n",
       "      <td>-8.07</td>\n",
       "    </tr>\n",
       "    <tr>\n",
       "      <th>1716913</th>\n",
       "      <td>train_a</td>\n",
       "      <td>1192 days 07:13:00</td>\n",
       "      <td>-8.35</td>\n",
       "      <td>12.60</td>\n",
       "      <td>2.74</td>\n",
       "      <td>15.361969</td>\n",
       "      <td>True</td>\n",
       "      <td>-8.35</td>\n",
       "    </tr>\n",
       "    <tr>\n",
       "      <th>1716914</th>\n",
       "      <td>train_a</td>\n",
       "      <td>1192 days 07:14:00</td>\n",
       "      <td>-8.16</td>\n",
       "      <td>12.68</td>\n",
       "      <td>3.09</td>\n",
       "      <td>15.392079</td>\n",
       "      <td>True</td>\n",
       "      <td>-8.16</td>\n",
       "    </tr>\n",
       "    <tr>\n",
       "      <th>1716915</th>\n",
       "      <td>train_a</td>\n",
       "      <td>1192 days 07:15:00</td>\n",
       "      <td>-8.46</td>\n",
       "      <td>12.32</td>\n",
       "      <td>3.00</td>\n",
       "      <td>15.243162</td>\n",
       "      <td>True</td>\n",
       "      <td>-8.46</td>\n",
       "    </tr>\n",
       "  </tbody>\n",
       "</table>\n",
       "<p>61827 rows × 8 columns</p>\n",
       "</div>"
      ],
      "text/plain": [
       "          period           timedelta  bx_gse  by_gse  bz_gse  Magnitude  \\\n",
       "2788     train_a     1 days 22:28:00   -1.77    9.05  -11.77  14.952201   \n",
       "2789     train_a     1 days 22:29:00   -2.49    9.95  -11.44  15.364771   \n",
       "2790     train_a     1 days 22:30:00   -2.26   10.01  -11.07  15.094787   \n",
       "2791     train_a     1 days 22:31:00   -1.93    9.41  -11.86  15.262130   \n",
       "2793     train_a     1 days 22:33:00   -2.05    8.37  -12.12  14.871241   \n",
       "...          ...                 ...     ...     ...     ...        ...   \n",
       "1716911  train_a  1192 days 07:11:00   -8.30   12.75    2.75  15.460110   \n",
       "1716912  train_a  1192 days 07:12:00   -8.07   12.78    2.95  15.399864   \n",
       "1716913  train_a  1192 days 07:13:00   -8.35   12.60    2.74  15.361969   \n",
       "1716914  train_a  1192 days 07:14:00   -8.16   12.68    3.09  15.392079   \n",
       "1716915  train_a  1192 days 07:15:00   -8.46   12.32    3.00  15.243162   \n",
       "\n",
       "         Irregular_Activity  filtered_x  \n",
       "2788                   True       -1.77  \n",
       "2789                   True       -2.49  \n",
       "2790                   True       -2.26  \n",
       "2791                   True       -1.93  \n",
       "2793                   True       -2.05  \n",
       "...                     ...         ...  \n",
       "1716911                True       -8.30  \n",
       "1716912                True       -8.07  \n",
       "1716913                True       -8.35  \n",
       "1716914                True       -8.16  \n",
       "1716915                True       -8.46  \n",
       "\n",
       "[61827 rows x 8 columns]"
      ]
     },
     "execution_count": 17,
     "metadata": {},
     "output_type": "execute_result"
    }
   ],
   "source": [
    "filtered_train_a.loc[filtered_train_a['Irregular_Activity'] == True]"
   ]
  },
  {
   "cell_type": "code",
   "execution_count": 18,
   "metadata": {},
   "outputs": [
    {
     "data": {
      "image/png": "[encoded data removed]",
      "text/plain": [
       "<Figure size 1000x600 with 1 Axes>"
      ]
     },
     "metadata": {},
     "output_type": "display_data"
    }
   ],
   "source": [
    "fig, ax = plt.subplots(figsize=(10,6))\n",
    "\n",
    "mag_high_thresh = 3 * filtered_train_a['Magnitude'] \n",
    "\n",
    "\n",
    "ax.plot(filtered_train_a.index, filtered_train_a['Magnitude'], color= 'skyblue', marker = 'o', label='X')\n",
    "\n",
    "\n",
    "\n",
    "\n",
    "\n",
    "ax.set_xlabel('Time')\n",
    "ax.set_ylabel('Magentic strength in μT')\n",
    "\n",
    "\n",
    "ax.legend()\n",
    "plt.savefig('plot.png')"
   ]
  },
  {
   "cell_type": "markdown",
   "metadata": {},
   "source": [
    "# Main dataset - Logistic Regression Training"
   ]
  },
  {
   "cell_type": "code",
   "execution_count": 19,
   "metadata": {},
   "outputs": [],
   "source": [
    "from sklearn.linear_model import LogisticRegression\n",
    "from sklearn.preprocessing import StandardScaler\n",
    "from sklearn.model_selection import train_test_split\n",
    "import numpy as np\n",
    "from sklearn.metrics import accuracy_score, classification_report"
   ]
  },
  {
   "cell_type": "code",
   "execution_count": 20,
   "metadata": {},
   "outputs": [
    {
     "data": {
      "text/html": [
       "<div>\n",
       "<style scoped>\n",
       "    .dataframe tbody tr th:only-of-type {\n",
       "        vertical-align: middle;\n",
       "    }\n",
       "\n",
       "    .dataframe tbody tr th {\n",
       "        vertical-align: top;\n",
       "    }\n",
       "\n",
       "    .dataframe thead th {\n",
       "        text-align: right;\n",
       "    }\n",
       "</style>\n",
       "<table border=\"1\" class=\"dataframe\">\n",
       "  <thead>\n",
       "    <tr style=\"text-align: right;\">\n",
       "      <th></th>\n",
       "      <th>period</th>\n",
       "      <th>timedelta</th>\n",
       "      <th>bx_gse</th>\n",
       "      <th>by_gse</th>\n",
       "      <th>bz_gse</th>\n",
       "      <th>Magnitude</th>\n",
       "      <th>Irregular_Activity</th>\n",
       "      <th>filtered_x</th>\n",
       "    </tr>\n",
       "  </thead>\n",
       "  <tbody>\n",
       "    <tr>\n",
       "      <th>0</th>\n",
       "      <td>train_a</td>\n",
       "      <td>0 days 00:00:00</td>\n",
       "      <td>-5.55</td>\n",
       "      <td>3.00</td>\n",
       "      <td>1.25</td>\n",
       "      <td>6.431563</td>\n",
       "      <td>False</td>\n",
       "      <td>-5.55</td>\n",
       "    </tr>\n",
       "    <tr>\n",
       "      <th>1</th>\n",
       "      <td>train_a</td>\n",
       "      <td>0 days 00:01:00</td>\n",
       "      <td>-5.58</td>\n",
       "      <td>3.16</td>\n",
       "      <td>1.17</td>\n",
       "      <td>6.518504</td>\n",
       "      <td>False</td>\n",
       "      <td>-5.58</td>\n",
       "    </tr>\n",
       "    <tr>\n",
       "      <th>2</th>\n",
       "      <td>train_a</td>\n",
       "      <td>0 days 00:02:00</td>\n",
       "      <td>-5.15</td>\n",
       "      <td>3.66</td>\n",
       "      <td>0.85</td>\n",
       "      <td>6.374998</td>\n",
       "      <td>False</td>\n",
       "      <td>-5.15</td>\n",
       "    </tr>\n",
       "    <tr>\n",
       "      <th>3</th>\n",
       "      <td>train_a</td>\n",
       "      <td>0 days 00:03:00</td>\n",
       "      <td>-5.20</td>\n",
       "      <td>3.68</td>\n",
       "      <td>0.68</td>\n",
       "      <td>6.406622</td>\n",
       "      <td>False</td>\n",
       "      <td>-5.20</td>\n",
       "    </tr>\n",
       "    <tr>\n",
       "      <th>4</th>\n",
       "      <td>train_a</td>\n",
       "      <td>0 days 00:04:00</td>\n",
       "      <td>-5.12</td>\n",
       "      <td>3.68</td>\n",
       "      <td>0.49</td>\n",
       "      <td>6.324310</td>\n",
       "      <td>False</td>\n",
       "      <td>-5.12</td>\n",
       "    </tr>\n",
       "  </tbody>\n",
       "</table>\n",
       "</div>"
      ],
      "text/plain": [
       "    period        timedelta  bx_gse  by_gse  bz_gse  Magnitude  \\\n",
       "0  train_a  0 days 00:00:00   -5.55    3.00    1.25   6.431563   \n",
       "1  train_a  0 days 00:01:00   -5.58    3.16    1.17   6.518504   \n",
       "2  train_a  0 days 00:02:00   -5.15    3.66    0.85   6.374998   \n",
       "3  train_a  0 days 00:03:00   -5.20    3.68    0.68   6.406622   \n",
       "4  train_a  0 days 00:04:00   -5.12    3.68    0.49   6.324310   \n",
       "\n",
       "   Irregular_Activity  filtered_x  \n",
       "0               False       -5.55  \n",
       "1               False       -5.58  \n",
       "2               False       -5.15  \n",
       "3               False       -5.20  \n",
       "4               False       -5.12  "
      ]
     },
     "execution_count": 20,
     "metadata": {},
     "output_type": "execute_result"
    }
   ],
   "source": [
    "filtered_train_a.head()"
   ]
  },
  {
   "cell_type": "code",
   "execution_count": 21,
   "metadata": {},
   "outputs": [
    {
     "data": {
      "text/html": [
       "<div>\n",
       "<style scoped>\n",
       "    .dataframe tbody tr th:only-of-type {\n",
       "        vertical-align: middle;\n",
       "    }\n",
       "\n",
       "    .dataframe tbody tr th {\n",
       "        vertical-align: top;\n",
       "    }\n",
       "\n",
       "    .dataframe thead th {\n",
       "        text-align: right;\n",
       "    }\n",
       "</style>\n",
       "<table border=\"1\" class=\"dataframe\">\n",
       "  <thead>\n",
       "    <tr style=\"text-align: right;\">\n",
       "      <th></th>\n",
       "      <th>timedelta</th>\n",
       "      <th>by_gse</th>\n",
       "      <th>bz_gse</th>\n",
       "      <th>Magnitude</th>\n",
       "      <th>Irregular_Activity</th>\n",
       "      <th>filtered_x</th>\n",
       "    </tr>\n",
       "  </thead>\n",
       "  <tbody>\n",
       "    <tr>\n",
       "      <th>0</th>\n",
       "      <td>0 days 00:00:00</td>\n",
       "      <td>3.00</td>\n",
       "      <td>1.25</td>\n",
       "      <td>6.431563</td>\n",
       "      <td>False</td>\n",
       "      <td>-5.55</td>\n",
       "    </tr>\n",
       "    <tr>\n",
       "      <th>1</th>\n",
       "      <td>0 days 00:01:00</td>\n",
       "      <td>3.16</td>\n",
       "      <td>1.17</td>\n",
       "      <td>6.518504</td>\n",
       "      <td>False</td>\n",
       "      <td>-5.58</td>\n",
       "    </tr>\n",
       "    <tr>\n",
       "      <th>2</th>\n",
       "      <td>0 days 00:02:00</td>\n",
       "      <td>3.66</td>\n",
       "      <td>0.85</td>\n",
       "      <td>6.374998</td>\n",
       "      <td>False</td>\n",
       "      <td>-5.15</td>\n",
       "    </tr>\n",
       "    <tr>\n",
       "      <th>3</th>\n",
       "      <td>0 days 00:03:00</td>\n",
       "      <td>3.68</td>\n",
       "      <td>0.68</td>\n",
       "      <td>6.406622</td>\n",
       "      <td>False</td>\n",
       "      <td>-5.20</td>\n",
       "    </tr>\n",
       "    <tr>\n",
       "      <th>4</th>\n",
       "      <td>0 days 00:04:00</td>\n",
       "      <td>3.68</td>\n",
       "      <td>0.49</td>\n",
       "      <td>6.324310</td>\n",
       "      <td>False</td>\n",
       "      <td>-5.12</td>\n",
       "    </tr>\n",
       "  </tbody>\n",
       "</table>\n",
       "</div>"
      ],
      "text/plain": [
       "         timedelta  by_gse  bz_gse  Magnitude  Irregular_Activity  filtered_x\n",
       "0  0 days 00:00:00    3.00    1.25   6.431563               False       -5.55\n",
       "1  0 days 00:01:00    3.16    1.17   6.518504               False       -5.58\n",
       "2  0 days 00:02:00    3.66    0.85   6.374998               False       -5.15\n",
       "3  0 days 00:03:00    3.68    0.68   6.406622               False       -5.20\n",
       "4  0 days 00:04:00    3.68    0.49   6.324310               False       -5.12"
      ]
     },
     "execution_count": 21,
     "metadata": {},
     "output_type": "execute_result"
    }
   ],
   "source": [
    "main_dataset = filtered_train_a.drop(['period', 'bx_gse'], axis=1)\n",
    "main_dataset = main_dataset.dropna()\n",
    "main_dataset.head()"
   ]
  },
  {
   "cell_type": "code",
   "execution_count": 22,
   "metadata": {},
   "outputs": [
    {
     "data": {
      "text/plain": [
       "np.float64(41.13)"
      ]
     },
     "execution_count": 22,
     "metadata": {},
     "output_type": "execute_result"
    }
   ],
   "source": [
    "main_dataset['filtered_x'].max()"
   ]
  },
  {
   "cell_type": "markdown",
   "metadata": {},
   "source": [
    "## Data Preprocesing"
   ]
  },
  {
   "cell_type": "code",
   "execution_count": 23,
   "metadata": {},
   "outputs": [
    {
     "data": {
      "text/html": [
       "<div>\n",
       "<style scoped>\n",
       "    .dataframe tbody tr th:only-of-type {\n",
       "        vertical-align: middle;\n",
       "    }\n",
       "\n",
       "    .dataframe tbody tr th {\n",
       "        vertical-align: top;\n",
       "    }\n",
       "\n",
       "    .dataframe thead th {\n",
       "        text-align: right;\n",
       "    }\n",
       "</style>\n",
       "<table border=\"1\" class=\"dataframe\">\n",
       "  <thead>\n",
       "    <tr style=\"text-align: right;\">\n",
       "      <th></th>\n",
       "      <th>by_gse</th>\n",
       "      <th>bz_gse</th>\n",
       "      <th>Magnitude</th>\n",
       "      <th>Irregular_Activity</th>\n",
       "      <th>filtered_x</th>\n",
       "      <th>minutes</th>\n",
       "    </tr>\n",
       "  </thead>\n",
       "  <tbody>\n",
       "    <tr>\n",
       "      <th>0</th>\n",
       "      <td>3.00</td>\n",
       "      <td>1.25</td>\n",
       "      <td>6.431563</td>\n",
       "      <td>False</td>\n",
       "      <td>-5.55</td>\n",
       "      <td>0</td>\n",
       "    </tr>\n",
       "    <tr>\n",
       "      <th>1</th>\n",
       "      <td>3.16</td>\n",
       "      <td>1.17</td>\n",
       "      <td>6.518504</td>\n",
       "      <td>False</td>\n",
       "      <td>-5.58</td>\n",
       "      <td>1</td>\n",
       "    </tr>\n",
       "    <tr>\n",
       "      <th>2</th>\n",
       "      <td>3.66</td>\n",
       "      <td>0.85</td>\n",
       "      <td>6.374998</td>\n",
       "      <td>False</td>\n",
       "      <td>-5.15</td>\n",
       "      <td>2</td>\n",
       "    </tr>\n",
       "    <tr>\n",
       "      <th>3</th>\n",
       "      <td>3.68</td>\n",
       "      <td>0.68</td>\n",
       "      <td>6.406622</td>\n",
       "      <td>False</td>\n",
       "      <td>-5.20</td>\n",
       "      <td>3</td>\n",
       "    </tr>\n",
       "    <tr>\n",
       "      <th>4</th>\n",
       "      <td>3.68</td>\n",
       "      <td>0.49</td>\n",
       "      <td>6.324310</td>\n",
       "      <td>False</td>\n",
       "      <td>-5.12</td>\n",
       "      <td>4</td>\n",
       "    </tr>\n",
       "  </tbody>\n",
       "</table>\n",
       "</div>"
      ],
      "text/plain": [
       "   by_gse  bz_gse  Magnitude  Irregular_Activity  filtered_x  minutes\n",
       "0    3.00    1.25   6.431563               False       -5.55        0\n",
       "1    3.16    1.17   6.518504               False       -5.58        1\n",
       "2    3.66    0.85   6.374998               False       -5.15        2\n",
       "3    3.68    0.68   6.406622               False       -5.20        3\n",
       "4    3.68    0.49   6.324310               False       -5.12        4"
      ]
     },
     "execution_count": 23,
     "metadata": {},
     "output_type": "execute_result"
    }
   ],
   "source": [
    "def duration_to_minutes(duration_str):\n",
    "    days_part, time_part = duration_str.split(\" days \")\n",
    "    days = int(days_part)\n",
    "    hours, minutes, seconds = map(int, time_part.split(\":\"))\n",
    "    return days * 24 * 60 + hours * 60 + minutes + seconds // 60\n",
    "\n",
    "\n",
    "main_dataset['minutes'] = df['timedelta'].apply(duration_to_minutes)\n",
    "main_dataset = main_dataset.drop(['timedelta'], axis=1)\n",
    "main_dataset.head()\n",
    "\n"
   ]
  },
  {
   "cell_type": "code",
   "execution_count": 24,
   "metadata": {},
   "outputs": [
    {
     "data": {
      "text/html": [
       "<div>\n",
       "<style scoped>\n",
       "    .dataframe tbody tr th:only-of-type {\n",
       "        vertical-align: middle;\n",
       "    }\n",
       "\n",
       "    .dataframe tbody tr th {\n",
       "        vertical-align: top;\n",
       "    }\n",
       "\n",
       "    .dataframe thead th {\n",
       "        text-align: right;\n",
       "    }\n",
       "</style>\n",
       "<table border=\"1\" class=\"dataframe\">\n",
       "  <thead>\n",
       "    <tr style=\"text-align: right;\">\n",
       "      <th></th>\n",
       "      <th>by_gse</th>\n",
       "      <th>bz_gse</th>\n",
       "      <th>Magnitude</th>\n",
       "      <th>Irregular_Activity</th>\n",
       "      <th>filtered_x</th>\n",
       "      <th>minutes</th>\n",
       "    </tr>\n",
       "  </thead>\n",
       "  <tbody>\n",
       "    <tr>\n",
       "      <th>0</th>\n",
       "      <td>3.00</td>\n",
       "      <td>1.25</td>\n",
       "      <td>6.431563</td>\n",
       "      <td>False</td>\n",
       "      <td>-5.55</td>\n",
       "      <td>0</td>\n",
       "    </tr>\n",
       "    <tr>\n",
       "      <th>1</th>\n",
       "      <td>3.16</td>\n",
       "      <td>1.17</td>\n",
       "      <td>6.518504</td>\n",
       "      <td>False</td>\n",
       "      <td>-5.58</td>\n",
       "      <td>1</td>\n",
       "    </tr>\n",
       "    <tr>\n",
       "      <th>2</th>\n",
       "      <td>3.66</td>\n",
       "      <td>0.85</td>\n",
       "      <td>6.374998</td>\n",
       "      <td>False</td>\n",
       "      <td>-5.15</td>\n",
       "      <td>2</td>\n",
       "    </tr>\n",
       "    <tr>\n",
       "      <th>3</th>\n",
       "      <td>3.68</td>\n",
       "      <td>0.68</td>\n",
       "      <td>6.406622</td>\n",
       "      <td>False</td>\n",
       "      <td>-5.20</td>\n",
       "      <td>3</td>\n",
       "    </tr>\n",
       "    <tr>\n",
       "      <th>4</th>\n",
       "      <td>3.68</td>\n",
       "      <td>0.49</td>\n",
       "      <td>6.324310</td>\n",
       "      <td>False</td>\n",
       "      <td>-5.12</td>\n",
       "      <td>4</td>\n",
       "    </tr>\n",
       "  </tbody>\n",
       "</table>\n",
       "</div>"
      ],
      "text/plain": [
       "   by_gse  bz_gse  Magnitude  Irregular_Activity  filtered_x  minutes\n",
       "0    3.00    1.25   6.431563               False       -5.55        0\n",
       "1    3.16    1.17   6.518504               False       -5.58        1\n",
       "2    3.66    0.85   6.374998               False       -5.15        2\n",
       "3    3.68    0.68   6.406622               False       -5.20        3\n",
       "4    3.68    0.49   6.324310               False       -5.12        4"
      ]
     },
     "execution_count": 24,
     "metadata": {},
     "output_type": "execute_result"
    }
   ],
   "source": [
    "main_dataset.head()"
   ]
  },
  {
   "cell_type": "code",
   "execution_count": 25,
   "metadata": {},
   "outputs": [],
   "source": [
    "X = main_dataset[['filtered_x', 'Magnitude', 'minutes', 'by_gse', 'bz_gse']]\n",
    "y = main_dataset['Irregular_Activity']"
   ]
  },
  {
   "cell_type": "code",
   "execution_count": 26,
   "metadata": {},
   "outputs": [],
   "source": [
    "X_train, X_test, y_train, y_test = train_test_split(X, y, test_size=0.2, random_state=42)"
   ]
  },
  {
   "cell_type": "code",
   "execution_count": 27,
   "metadata": {},
   "outputs": [],
   "source": [
    "scaler = StandardScaler()\n",
    "X_train_scaled = scaler.fit_transform(X_train)\n",
    "X_test_scaled = scaler.transform(X_test)"
   ]
  },
  {
   "cell_type": "markdown",
   "metadata": {},
   "source": [
    "#### Verifying to check mean is 0 and std deviation is 0"
   ]
  },
  {
   "cell_type": "code",
   "execution_count": 28,
   "metadata": {},
   "outputs": [
    {
     "name": "stdout",
     "output_type": "stream",
     "text": [
      "Mean of scaled training data: [-4.78541475e-17 -4.04713229e-16 -4.20683409e-18  2.24496066e-17\n",
      "  1.57107772e-17]\n",
      "Standard deviation of scaled training data: [1. 1. 1. 1. 1.]\n"
     ]
    }
   ],
   "source": [
    "print(\"Mean of scaled training data:\", np.mean(X_train_scaled, axis=0))\n",
    "print(\"Standard deviation of scaled training data:\", np.std(X_train_scaled, axis=0))"
   ]
  },
  {
   "cell_type": "code",
   "execution_count": 29,
   "metadata": {},
   "outputs": [
    {
     "name": "stdout",
     "output_type": "stream",
     "text": [
      "Accuracy: 0.9993555616930633\n",
      "Classification Report:\n",
      "               precision    recall  f1-score   support\n",
      "\n",
      "       False       1.00      1.00      1.00    302571\n",
      "        True       0.98      1.00      0.99     12432\n",
      "\n",
      "    accuracy                           1.00    315003\n",
      "   macro avg       0.99      1.00      1.00    315003\n",
      "weighted avg       1.00      1.00      1.00    315003\n",
      "\n"
     ]
    }
   ],
   "source": [
    "model_balanced = LogisticRegression(class_weight={0:1, 1:4}, random_state=42)\n",
    "#model_balanced = LogisticRegression(class_weight='balanced', random_state=42)\n",
    "model_balanced.fit(X_train_scaled, y_train)\n",
    "wind_prediction = model_balanced.predict(X_test_scaled)\n",
    "print(\"Accuracy:\", accuracy_score(y_test, wind_prediction))\n",
    "print(\"Classification Report:\\n\", classification_report(y_test, wind_prediction))"
   ]
  },
  {
   "cell_type": "markdown",
   "metadata": {},
   "source": [
    "Support indicates that there is a massive imbalance between the False and True class. I will visualise a pie chart to show ~"
   ]
  },
  {
   "cell_type": "code",
   "execution_count": 30,
   "metadata": {},
   "outputs": [
    {
     "data": {
      "text/plain": [
       "Text(0.5, 1.0, 'Imbalance of data between True and False values')"
      ]
     },
     "execution_count": 30,
     "metadata": {},
     "output_type": "execute_result"
    },
    {
     "data": {
      "image/png": "[encoded data removed]",
      "text/plain": [
       "<Figure size 500x300 with 1 Axes>"
      ]
     },
     "metadata": {},
     "output_type": "display_data"
    }
   ],
   "source": [
    "fig, ax = plt.subplots(figsize=(5,3))\n",
    "true_or_false = main_dataset['Irregular_Activity'].value_counts().reset_index()\n",
    "labels = ['False', 'True']\n",
    "ax.pie(true_or_false['count'], labels=labels, colors=['turquoise', 'orange'], autopct='%1.1f%%')\n",
    "ax.set_xlabel('Classes of Activity')\n",
    "\n",
    "ax.set_title('Imbalance of data between True and False values')"
   ]
  },
  {
   "cell_type": "markdown",
   "metadata": {},
   "source": [
    "I will try and test if accuracy is improved if the dataset is more balanced"
   ]
  },
  {
   "cell_type": "code",
   "execution_count": 31,
   "metadata": {},
   "outputs": [],
   "source": [
    "X = main_dataset[['filtered_x', 'Magnitude', 'minutes', 'by_gse', 'bz_gse']]\n",
    "y = main_dataset['Irregular_Activity']"
   ]
  },
  {
   "cell_type": "code",
   "execution_count": 32,
   "metadata": {},
   "outputs": [
    {
     "data": {
      "text/plain": [
       "Text(0.5, 1.0, 'Imbalance of data between True and False values')"
      ]
     },
     "execution_count": 32,
     "metadata": {},
     "output_type": "execute_result"
    },
    {
     "data": {
      "image/png": "[encoded data removed]",
      "text/plain": [
       "<Figure size 500x300 with 1 Axes>"
      ]
     },
     "metadata": {},
     "output_type": "display_data"
    }
   ],
   "source": [
    "from imblearn.under_sampling import RandomUnderSampler\n",
    "\n",
    "under_sampler = RandomUnderSampler(sampling_strategy=1)\n",
    "\n",
    "X_resize, y_resize = under_sampler.fit_resample(X, y)\n",
    "\n",
    "fig, ax = plt.subplots(figsize=(5,3))\n",
    "true_or_false = y_resize.value_counts().reset_index()\n",
    "ax.pie(true_or_false['count'], labels=labels, colors=['turquoise', 'orange'], autopct='%1.1f%%')\n",
    "ax.set_xlabel('Classes of Activity')\n",
    "\n",
    "ax.set_title('Imbalance of data between True and False values')"
   ]
  },
  {
   "cell_type": "markdown",
   "metadata": {},
   "source": [
    "Now that the proportions are the same, we can test the model again"
   ]
  },
  {
   "cell_type": "code",
   "execution_count": 33,
   "metadata": {
    "ExecuteTime": {
     "end_time": "2025-02-13T21:26:56.432270Z",
     "start_time": "2025-02-13T21:26:56.225957Z"
    }
   },
   "outputs": [
    {
     "name": "stdout",
     "output_type": "stream",
     "text": [
      "Accuracy: 0.9956734462819943\n",
      "Classification Report:\n",
      "               precision    recall  f1-score   support\n",
      "\n",
      "       False       1.00      0.99      1.00     12561\n",
      "        True       0.99      1.00      1.00     12170\n",
      "\n",
      "    accuracy                           1.00     24731\n",
      "   macro avg       1.00      1.00      1.00     24731\n",
      "weighted avg       1.00      1.00      1.00     24731\n",
      "\n"
     ]
    }
   ],
   "source": [
    "\n",
    "X_train, X_test, y_train, y_test = train_test_split(X_resize, y_resize, test_size=0.2, random_state=42)\n",
    "\n",
    "scaler = StandardScaler()\n",
    "X_train_scaled = scaler.fit_transform(X_train)\n",
    "X_test_scaled = scaler.transform(X_test)\n",
    "\n",
    "model = LogisticRegression(class_weight={0:1, 1:8}, random_state=42)\n",
    "model.fit(X_train_scaled, y_train)\n",
    "\n",
    "wind_prediction = model.predict(X_test_scaled)\n",
    "\n",
    "print(\"Accuracy:\", accuracy_score(y_test, wind_prediction))\n",
    "print(\"Classification Report:\\n\", classification_report(y_test, wind_prediction))"
   ]
  },
  {
   "cell_type": "markdown",
   "metadata": {},
   "source": [
    "Around the same, so I will save the imbalanced model as it is slightly better"
   ]
  },
  {
   "cell_type": "code",
   "execution_count": 36,
   "metadata": {},
   "outputs": [
    {
     "name": "stderr",
     "output_type": "stream",
     "text": [
      "C:\\Users\\chchr\\AppData\\Local\\Temp\\ipykernel_20560\\1805673302.py:5: DeprecationWarning: Conversion of an array with ndim > 0 to a scalar is deprecated, and will error in future. Ensure you extract a single element from your array before performing this operation. (Deprecated NumPy 1.25.)\n",
      "  \"intercept\": float(model.intercept_)\n"
     ]
    }
   ],
   "source": [
    "import json\n",
    "# Save model parameters\n",
    "params = {\n",
    "    \"coef\": model.coef_.tolist(),\n",
    "    \"intercept\": float(model.intercept_)\n",
    "}\n",
    "with open(\"model_params.json\", \"w\") as f:\n",
    "    json.dump(params, f)"
   ]
  },
  {
   "cell_type": "code",
   "execution_count": null,
   "metadata": {},
   "outputs": [],
   "source": []
  }
 ],
 "metadata": {
  "kernelspec": {
   "display_name": ".venv",
   "language": "python",
   "name": "python3"
  },
  "language_info": {
   "codemirror_mode": {
    "name": "ipython",
    "version": 3
   },
   "file_extension": ".py",
   "mimetype": "text/x-python",
   "name": "python",
   "nbconvert_exporter": "python",
   "pygments_lexer": "ipython3",
   "version": "3.11.9"
  }
 },
 "nbformat": 4,
 "nbformat_minor": 2
}
