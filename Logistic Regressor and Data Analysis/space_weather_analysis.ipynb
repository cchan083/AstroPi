{
 "cells": [
  {
   "cell_type": "markdown",
   "metadata": {},
   "source": [
    "# Solar Wind investigation + Classification algorithm"
   ]
  },
  {
   "cell_type": "code",
   "execution_count": 4,
   "metadata": {
    "ExecuteTime": {
     "end_time": "2025-02-13T21:38:16.030557Z",
     "start_time": "2025-02-13T21:38:14.515708Z"
    }
   },
   "outputs": [],
   "source": [
    "import pandas as pd\n",
    "import matplotlib.pyplot as plt    "
   ]
  },
  {
   "cell_type": "markdown",
   "metadata": {},
   "source": [
    "## Data Cleaning and exploration"
   ]
  },
  {
   "cell_type": "code",
   "execution_count": 5,
   "metadata": {
    "ExecuteTime": {
     "end_time": "2025-02-13T21:38:18.892948Z",
     "start_time": "2025-02-13T21:38:18.686026Z"
    }
   },
   "outputs": [
    {
     "data": {
      "text/html": [
       "<div>\n",
       "<style scoped>\n",
       "    .dataframe tbody tr th:only-of-type {\n",
       "        vertical-align: middle;\n",
       "    }\n",
       "\n",
       "    .dataframe tbody tr th {\n",
       "        vertical-align: top;\n",
       "    }\n",
       "\n",
       "    .dataframe thead th {\n",
       "        text-align: right;\n",
       "    }\n",
       "</style>\n",
       "<table border=\"1\" class=\"dataframe\">\n",
       "  <thead>\n",
       "    <tr style=\"text-align: right;\">\n",
       "      <th></th>\n",
       "      <th>period</th>\n",
       "      <th>timedelta</th>\n",
       "      <th>bx_gse</th>\n",
       "      <th>by_gse</th>\n",
       "      <th>bz_gse</th>\n",
       "      <th>theta_gse</th>\n",
       "      <th>phi_gse</th>\n",
       "      <th>bx_gsm</th>\n",
       "      <th>by_gsm</th>\n",
       "      <th>bz_gsm</th>\n",
       "      <th>theta_gsm</th>\n",
       "      <th>phi_gsm</th>\n",
       "      <th>bt</th>\n",
       "      <th>density</th>\n",
       "      <th>speed</th>\n",
       "      <th>temperature</th>\n",
       "      <th>source</th>\n",
       "    </tr>\n",
       "  </thead>\n",
       "  <tbody>\n",
       "    <tr>\n",
       "      <th>0</th>\n",
       "      <td>train_a</td>\n",
       "      <td>0 days 00:00:00</td>\n",
       "      <td>-5.55</td>\n",
       "      <td>3.00</td>\n",
       "      <td>1.25</td>\n",
       "      <td>11.09</td>\n",
       "      <td>153.37</td>\n",
       "      <td>-5.55</td>\n",
       "      <td>3.00</td>\n",
       "      <td>1.25</td>\n",
       "      <td>11.09</td>\n",
       "      <td>153.37</td>\n",
       "      <td>6.80</td>\n",
       "      <td>1.53</td>\n",
       "      <td>383.92</td>\n",
       "      <td>110237.0</td>\n",
       "      <td>ac</td>\n",
       "    </tr>\n",
       "    <tr>\n",
       "      <th>1</th>\n",
       "      <td>train_a</td>\n",
       "      <td>0 days 00:01:00</td>\n",
       "      <td>-5.58</td>\n",
       "      <td>3.16</td>\n",
       "      <td>1.17</td>\n",
       "      <td>10.10</td>\n",
       "      <td>151.91</td>\n",
       "      <td>-5.58</td>\n",
       "      <td>3.16</td>\n",
       "      <td>1.17</td>\n",
       "      <td>10.10</td>\n",
       "      <td>151.91</td>\n",
       "      <td>6.83</td>\n",
       "      <td>1.69</td>\n",
       "      <td>381.79</td>\n",
       "      <td>123825.0</td>\n",
       "      <td>ac</td>\n",
       "    </tr>\n",
       "    <tr>\n",
       "      <th>2</th>\n",
       "      <td>train_a</td>\n",
       "      <td>0 days 00:02:00</td>\n",
       "      <td>-5.15</td>\n",
       "      <td>3.66</td>\n",
       "      <td>0.85</td>\n",
       "      <td>7.87</td>\n",
       "      <td>146.04</td>\n",
       "      <td>-5.15</td>\n",
       "      <td>3.66</td>\n",
       "      <td>0.85</td>\n",
       "      <td>7.87</td>\n",
       "      <td>146.04</td>\n",
       "      <td>6.77</td>\n",
       "      <td>1.97</td>\n",
       "      <td>389.11</td>\n",
       "      <td>82548.0</td>\n",
       "      <td>ac</td>\n",
       "    </tr>\n",
       "    <tr>\n",
       "      <th>3</th>\n",
       "      <td>train_a</td>\n",
       "      <td>0 days 00:03:00</td>\n",
       "      <td>-5.20</td>\n",
       "      <td>3.68</td>\n",
       "      <td>0.68</td>\n",
       "      <td>6.17</td>\n",
       "      <td>146.17</td>\n",
       "      <td>-5.20</td>\n",
       "      <td>3.68</td>\n",
       "      <td>0.68</td>\n",
       "      <td>6.17</td>\n",
       "      <td>146.17</td>\n",
       "      <td>6.74</td>\n",
       "      <td>1.97</td>\n",
       "      <td>389.11</td>\n",
       "      <td>82548.0</td>\n",
       "      <td>ac</td>\n",
       "    </tr>\n",
       "    <tr>\n",
       "      <th>4</th>\n",
       "      <td>train_a</td>\n",
       "      <td>0 days 00:04:00</td>\n",
       "      <td>-5.12</td>\n",
       "      <td>3.68</td>\n",
       "      <td>0.49</td>\n",
       "      <td>4.62</td>\n",
       "      <td>145.72</td>\n",
       "      <td>-5.12</td>\n",
       "      <td>3.68</td>\n",
       "      <td>0.49</td>\n",
       "      <td>4.62</td>\n",
       "      <td>145.72</td>\n",
       "      <td>6.65</td>\n",
       "      <td>1.77</td>\n",
       "      <td>384.26</td>\n",
       "      <td>94269.0</td>\n",
       "      <td>ac</td>\n",
       "    </tr>\n",
       "  </tbody>\n",
       "</table>\n",
       "</div>"
      ],
      "text/plain": [
       "    period        timedelta  bx_gse  by_gse  bz_gse  theta_gse  phi_gse  \\\n",
       "0  train_a  0 days 00:00:00   -5.55    3.00    1.25      11.09   153.37   \n",
       "1  train_a  0 days 00:01:00   -5.58    3.16    1.17      10.10   151.91   \n",
       "2  train_a  0 days 00:02:00   -5.15    3.66    0.85       7.87   146.04   \n",
       "3  train_a  0 days 00:03:00   -5.20    3.68    0.68       6.17   146.17   \n",
       "4  train_a  0 days 00:04:00   -5.12    3.68    0.49       4.62   145.72   \n",
       "\n",
       "   bx_gsm  by_gsm  bz_gsm  theta_gsm  phi_gsm    bt  density   speed  \\\n",
       "0   -5.55    3.00    1.25      11.09   153.37  6.80     1.53  383.92   \n",
       "1   -5.58    3.16    1.17      10.10   151.91  6.83     1.69  381.79   \n",
       "2   -5.15    3.66    0.85       7.87   146.04  6.77     1.97  389.11   \n",
       "3   -5.20    3.68    0.68       6.17   146.17  6.74     1.97  389.11   \n",
       "4   -5.12    3.68    0.49       4.62   145.72  6.65     1.77  384.26   \n",
       "\n",
       "   temperature source  \n",
       "0     110237.0     ac  \n",
       "1     123825.0     ac  \n",
       "2      82548.0     ac  \n",
       "3      82548.0     ac  \n",
       "4      94269.0     ac  "
      ]
     },
     "execution_count": 5,
     "metadata": {},
     "output_type": "execute_result"
    }
   ],
   "source": [
    "df = pd.read_csv('solar_wind.csv')\n",
    "df.head()"
   ]
  },
  {
   "cell_type": "code",
   "execution_count": 6,
   "metadata": {},
   "outputs": [],
   "source": [
    "df.drop([\n",
    "    'bx_gsm',\n",
    "    'by_gsm',\n",
    "    'bz_gsm',\n",
    "    'density',\n",
    "    'source',\n",
    "    'temperature',\n",
    "    'phi_gsm',\n",
    "    'theta_gse',\n",
    "    'phi_gse',\n",
    "    'theta_gsm',\n",
    "    'bt',\n",
    "    'speed'],errors='ignore', axis=1, inplace=True)"
   ]
  },
  {
   "cell_type": "code",
   "execution_count": 7,
   "metadata": {},
   "outputs": [
    {
     "data": {
      "text/plain": [
       "(8392320, 5)"
      ]
     },
     "execution_count": 7,
     "metadata": {},
     "output_type": "execute_result"
    }
   ],
   "source": [
    "df.shape\n"
   ]
  },
  {
   "cell_type": "code",
   "execution_count": 8,
   "metadata": {},
   "outputs": [
    {
     "data": {
      "text/plain": [
       "(1729440, 5)"
      ]
     },
     "execution_count": 8,
     "metadata": {},
     "output_type": "execute_result"
    }
   ],
   "source": [
    "train_a = df.loc[df['period'] == 'train_a']\n",
    "train_a.shape"
   ]
  },
  {
   "cell_type": "markdown",
   "metadata": {},
   "source": [
    "### Drop missing values"
   ]
  },
  {
   "cell_type": "code",
   "execution_count": 9,
   "metadata": {},
   "outputs": [],
   "source": [
    "clean_train_a = train_a.dropna()"
   ]
  },
  {
   "cell_type": "code",
   "execution_count": 10,
   "metadata": {},
   "outputs": [
    {
     "data": {
      "text/plain": [
       "np.float64(41.13)"
      ]
     },
     "execution_count": 10,
     "metadata": {},
     "output_type": "execute_result"
    }
   ],
   "source": [
    "train_a = df.loc[df['period'] == 'train_a']\n",
    "train_a['bx_gse'].max()\n"
   ]
  },
  {
   "cell_type": "code",
   "execution_count": 11,
   "metadata": {},
   "outputs": [
    {
     "data": {
      "text/plain": [
       "np.float64(-13.017637037916273)"
      ]
     },
     "execution_count": 11,
     "metadata": {},
     "output_type": "execute_result"
    }
   ],
   "source": [
    "standard_deviation = train_a['bx_gse'].std()\n",
    "lower_threshold = standard_deviation * -3\n",
    "higher_threshold = standard_deviation * 3\n",
    "lower_threshold"
   ]
  },
  {
   "cell_type": "markdown",
   "metadata": {},
   "source": [
    "Interquartile Range"
   ]
  },
  {
   "cell_type": "code",
   "execution_count": 12,
   "metadata": {},
   "outputs": [],
   "source": [
    "higher_q = clean_train_a['bx_gse'].quantile(0.75)\n",
    "lower_q = clean_train_a['bx_gse'].quantile(0.25)\n",
    "iqr = higher_q - lower_q"
   ]
  },
  {
   "cell_type": "code",
   "execution_count": 13,
   "metadata": {},
   "outputs": [
    {
     "data": {
      "text/plain": [
       "np.float64(11.315000000000001)"
      ]
     },
     "execution_count": 13,
     "metadata": {},
     "output_type": "execute_result"
    }
   ],
   "source": [
    "higher_q + (1.5 * iqr)"
   ]
  },
  {
   "cell_type": "code",
   "execution_count": 14,
   "metadata": {},
   "outputs": [
    {
     "data": {
      "text/html": [
       "<div>\n",
       "<style scoped>\n",
       "    .dataframe tbody tr th:only-of-type {\n",
       "        vertical-align: middle;\n",
       "    }\n",
       "\n",
       "    .dataframe tbody tr th {\n",
       "        vertical-align: top;\n",
       "    }\n",
       "\n",
       "    .dataframe thead th {\n",
       "        text-align: right;\n",
       "    }\n",
       "</style>\n",
       "<table border=\"1\" class=\"dataframe\">\n",
       "  <thead>\n",
       "    <tr style=\"text-align: right;\">\n",
       "      <th></th>\n",
       "      <th>bx_gse</th>\n",
       "    </tr>\n",
       "  </thead>\n",
       "  <tbody>\n",
       "    <tr>\n",
       "      <th>7244</th>\n",
       "      <td>11.86</td>\n",
       "    </tr>\n",
       "    <tr>\n",
       "      <th>7245</th>\n",
       "      <td>14.80</td>\n",
       "    </tr>\n",
       "    <tr>\n",
       "      <th>7251</th>\n",
       "      <td>12.92</td>\n",
       "    </tr>\n",
       "    <tr>\n",
       "      <th>7287</th>\n",
       "      <td>11.73</td>\n",
       "    </tr>\n",
       "    <tr>\n",
       "      <th>7293</th>\n",
       "      <td>19.03</td>\n",
       "    </tr>\n",
       "    <tr>\n",
       "      <th>...</th>\n",
       "      <td>...</td>\n",
       "    </tr>\n",
       "    <tr>\n",
       "      <th>1716741</th>\n",
       "      <td>-15.24</td>\n",
       "    </tr>\n",
       "    <tr>\n",
       "      <th>1716742</th>\n",
       "      <td>-15.21</td>\n",
       "    </tr>\n",
       "    <tr>\n",
       "      <th>1716743</th>\n",
       "      <td>-15.19</td>\n",
       "    </tr>\n",
       "    <tr>\n",
       "      <th>1716744</th>\n",
       "      <td>-15.27</td>\n",
       "    </tr>\n",
       "    <tr>\n",
       "      <th>1716745</th>\n",
       "      <td>-14.96</td>\n",
       "    </tr>\n",
       "  </tbody>\n",
       "</table>\n",
       "<p>9707 rows × 1 columns</p>\n",
       "</div>"
      ],
      "text/plain": [
       "         bx_gse\n",
       "7244      11.86\n",
       "7245      14.80\n",
       "7251      12.92\n",
       "7287      11.73\n",
       "7293      19.03\n",
       "...         ...\n",
       "1716741  -15.24\n",
       "1716742  -15.21\n",
       "1716743  -15.19\n",
       "1716744  -15.27\n",
       "1716745  -14.96\n",
       "\n",
       "[9707 rows x 1 columns]"
      ]
     },
     "execution_count": 14,
     "metadata": {},
     "output_type": "execute_result"
    }
   ],
   "source": [
    "clean_train_a['Irregular_Activity'] = (clean_train_a['bx_gse'] > higher_q + (1.5*iqr) ) | (clean_train_a['bx_gse'] < lower_q - (1.5 * iqr) )\n",
    "clean_train_a.loc[clean_train_a['Irregular_Activity'] == True, ['bx_gse']]"
   ]
  },
  {
   "cell_type": "code",
   "execution_count": 15,
   "metadata": {},
   "outputs": [
    {
     "data": {
      "image/png": "[encoded data removed]",
      "text/plain": [
       "<Figure size 1000x600 with 1 Axes>"
      ]
     },
     "metadata": {},
     "output_type": "display_data"
    }
   ],
   "source": [
    "fig, ax = plt.subplots(figsize=(10,6))\n",
    "\n",
    "\n",
    "ax.plot(clean_train_a.index, clean_train_a['bx_gse'], color= 'skyblue', marker = 'o', label='X')\n",
    "ax.plot(clean_train_a.index, clean_train_a['by_gse'], color='salmon', marker='o', label='Y')\n",
    "ax.plot(clean_train_a.index, clean_train_a['bz_gse'], color = 'lightgray', marker='o', label='Z')\n",
    "\n",
    "ax.axhline(y=higher_threshold, color='black', linestyle='dashed')\n",
    "ax.axhline(y=lower_threshold, color='black', linestyle = 'dashed')\n",
    "\n",
    "\n",
    "ax.set_xlabel('Time')\n",
    "ax.set_ylabel('Magentic strength in μT')\n",
    "\n",
    "\n",
    "ax.legend()\n",
    "plt.savefig('plot.png')\n"
   ]
  },
  {
   "cell_type": "markdown",
   "metadata": {},
   "source": [
    "### Feature Engineering"
   ]
  },
  {
   "cell_type": "code",
   "execution_count": 16,
   "metadata": {},
   "outputs": [],
   "source": [
    "clean_train_a['filtered_x'] = clean_train_a['bx_gse']"
   ]
  },
  {
   "cell_type": "code",
   "execution_count": 17,
   "metadata": {},
   "outputs": [
    {
     "data": {
      "text/plain": [
       "(1575012, 7)"
      ]
     },
     "execution_count": 17,
     "metadata": {},
     "output_type": "execute_result"
    }
   ],
   "source": [
    "filtered_train_a = clean_train_a.dropna()\n",
    "filtered_train_a.shape"
   ]
  },
  {
   "cell_type": "code",
   "execution_count": 18,
   "metadata": {},
   "outputs": [
    {
     "data": {
      "text/html": [
       "<div>\n",
       "<style scoped>\n",
       "    .dataframe tbody tr th:only-of-type {\n",
       "        vertical-align: middle;\n",
       "    }\n",
       "\n",
       "    .dataframe tbody tr th {\n",
       "        vertical-align: top;\n",
       "    }\n",
       "\n",
       "    .dataframe thead th {\n",
       "        text-align: right;\n",
       "    }\n",
       "</style>\n",
       "<table border=\"1\" class=\"dataframe\">\n",
       "  <thead>\n",
       "    <tr style=\"text-align: right;\">\n",
       "      <th></th>\n",
       "      <th>period</th>\n",
       "      <th>timedelta</th>\n",
       "      <th>bx_gse</th>\n",
       "      <th>by_gse</th>\n",
       "      <th>bz_gse</th>\n",
       "      <th>Irregular_Activity</th>\n",
       "      <th>filtered_x</th>\n",
       "    </tr>\n",
       "  </thead>\n",
       "  <tbody>\n",
       "    <tr>\n",
       "      <th>7244</th>\n",
       "      <td>train_a</td>\n",
       "      <td>5 days 00:44:00</td>\n",
       "      <td>11.86</td>\n",
       "      <td>-10.58</td>\n",
       "      <td>-2.53</td>\n",
       "      <td>True</td>\n",
       "      <td>11.86</td>\n",
       "    </tr>\n",
       "    <tr>\n",
       "      <th>7245</th>\n",
       "      <td>train_a</td>\n",
       "      <td>5 days 00:45:00</td>\n",
       "      <td>14.80</td>\n",
       "      <td>-2.96</td>\n",
       "      <td>-0.72</td>\n",
       "      <td>True</td>\n",
       "      <td>14.80</td>\n",
       "    </tr>\n",
       "    <tr>\n",
       "      <th>7251</th>\n",
       "      <td>train_a</td>\n",
       "      <td>5 days 00:51:00</td>\n",
       "      <td>12.92</td>\n",
       "      <td>6.00</td>\n",
       "      <td>-0.21</td>\n",
       "      <td>True</td>\n",
       "      <td>12.92</td>\n",
       "    </tr>\n",
       "    <tr>\n",
       "      <th>7287</th>\n",
       "      <td>train_a</td>\n",
       "      <td>5 days 01:27:00</td>\n",
       "      <td>11.73</td>\n",
       "      <td>-4.60</td>\n",
       "      <td>0.22</td>\n",
       "      <td>True</td>\n",
       "      <td>11.73</td>\n",
       "    </tr>\n",
       "    <tr>\n",
       "      <th>7293</th>\n",
       "      <td>train_a</td>\n",
       "      <td>5 days 01:33:00</td>\n",
       "      <td>19.03</td>\n",
       "      <td>-7.17</td>\n",
       "      <td>6.86</td>\n",
       "      <td>True</td>\n",
       "      <td>19.03</td>\n",
       "    </tr>\n",
       "    <tr>\n",
       "      <th>...</th>\n",
       "      <td>...</td>\n",
       "      <td>...</td>\n",
       "      <td>...</td>\n",
       "      <td>...</td>\n",
       "      <td>...</td>\n",
       "      <td>...</td>\n",
       "      <td>...</td>\n",
       "    </tr>\n",
       "    <tr>\n",
       "      <th>1716741</th>\n",
       "      <td>train_a</td>\n",
       "      <td>1192 days 04:21:00</td>\n",
       "      <td>-15.24</td>\n",
       "      <td>8.44</td>\n",
       "      <td>-10.02</td>\n",
       "      <td>True</td>\n",
       "      <td>-15.24</td>\n",
       "    </tr>\n",
       "    <tr>\n",
       "      <th>1716742</th>\n",
       "      <td>train_a</td>\n",
       "      <td>1192 days 04:22:00</td>\n",
       "      <td>-15.21</td>\n",
       "      <td>8.25</td>\n",
       "      <td>-9.89</td>\n",
       "      <td>True</td>\n",
       "      <td>-15.21</td>\n",
       "    </tr>\n",
       "    <tr>\n",
       "      <th>1716743</th>\n",
       "      <td>train_a</td>\n",
       "      <td>1192 days 04:23:00</td>\n",
       "      <td>-15.19</td>\n",
       "      <td>8.48</td>\n",
       "      <td>-9.85</td>\n",
       "      <td>True</td>\n",
       "      <td>-15.19</td>\n",
       "    </tr>\n",
       "    <tr>\n",
       "      <th>1716744</th>\n",
       "      <td>train_a</td>\n",
       "      <td>1192 days 04:24:00</td>\n",
       "      <td>-15.27</td>\n",
       "      <td>8.70</td>\n",
       "      <td>-9.72</td>\n",
       "      <td>True</td>\n",
       "      <td>-15.27</td>\n",
       "    </tr>\n",
       "    <tr>\n",
       "      <th>1716745</th>\n",
       "      <td>train_a</td>\n",
       "      <td>1192 days 04:25:00</td>\n",
       "      <td>-14.96</td>\n",
       "      <td>9.30</td>\n",
       "      <td>-9.16</td>\n",
       "      <td>True</td>\n",
       "      <td>-14.96</td>\n",
       "    </tr>\n",
       "  </tbody>\n",
       "</table>\n",
       "<p>9707 rows × 7 columns</p>\n",
       "</div>"
      ],
      "text/plain": [
       "          period           timedelta  bx_gse  by_gse  bz_gse  \\\n",
       "7244     train_a     5 days 00:44:00   11.86  -10.58   -2.53   \n",
       "7245     train_a     5 days 00:45:00   14.80   -2.96   -0.72   \n",
       "7251     train_a     5 days 00:51:00   12.92    6.00   -0.21   \n",
       "7287     train_a     5 days 01:27:00   11.73   -4.60    0.22   \n",
       "7293     train_a     5 days 01:33:00   19.03   -7.17    6.86   \n",
       "...          ...                 ...     ...     ...     ...   \n",
       "1716741  train_a  1192 days 04:21:00  -15.24    8.44  -10.02   \n",
       "1716742  train_a  1192 days 04:22:00  -15.21    8.25   -9.89   \n",
       "1716743  train_a  1192 days 04:23:00  -15.19    8.48   -9.85   \n",
       "1716744  train_a  1192 days 04:24:00  -15.27    8.70   -9.72   \n",
       "1716745  train_a  1192 days 04:25:00  -14.96    9.30   -9.16   \n",
       "\n",
       "         Irregular_Activity  filtered_x  \n",
       "7244                   True       11.86  \n",
       "7245                   True       14.80  \n",
       "7251                   True       12.92  \n",
       "7287                   True       11.73  \n",
       "7293                   True       19.03  \n",
       "...                     ...         ...  \n",
       "1716741                True      -15.24  \n",
       "1716742                True      -15.21  \n",
       "1716743                True      -15.19  \n",
       "1716744                True      -15.27  \n",
       "1716745                True      -14.96  \n",
       "\n",
       "[9707 rows x 7 columns]"
      ]
     },
     "execution_count": 18,
     "metadata": {},
     "output_type": "execute_result"
    }
   ],
   "source": [
    "filtered_train_a.loc[filtered_train_a['Irregular_Activity'] == True]"
   ]
  },
  {
   "cell_type": "code",
   "execution_count": 19,
   "metadata": {},
   "outputs": [
    {
     "data": {
      "text/html": [
       "<div>\n",
       "<style scoped>\n",
       "    .dataframe tbody tr th:only-of-type {\n",
       "        vertical-align: middle;\n",
       "    }\n",
       "\n",
       "    .dataframe tbody tr th {\n",
       "        vertical-align: top;\n",
       "    }\n",
       "\n",
       "    .dataframe thead th {\n",
       "        text-align: right;\n",
       "    }\n",
       "</style>\n",
       "<table border=\"1\" class=\"dataframe\">\n",
       "  <thead>\n",
       "    <tr style=\"text-align: right;\">\n",
       "      <th></th>\n",
       "      <th>period</th>\n",
       "      <th>timedelta</th>\n",
       "      <th>bx_gse</th>\n",
       "      <th>by_gse</th>\n",
       "      <th>bz_gse</th>\n",
       "      <th>Irregular_Activity</th>\n",
       "      <th>filtered_x</th>\n",
       "      <th>Magnitude</th>\n",
       "    </tr>\n",
       "  </thead>\n",
       "  <tbody>\n",
       "    <tr>\n",
       "      <th>0</th>\n",
       "      <td>train_a</td>\n",
       "      <td>0 days 00:00:00</td>\n",
       "      <td>-5.55</td>\n",
       "      <td>3.00</td>\n",
       "      <td>1.25</td>\n",
       "      <td>False</td>\n",
       "      <td>-5.55</td>\n",
       "      <td>6.431563</td>\n",
       "    </tr>\n",
       "    <tr>\n",
       "      <th>1</th>\n",
       "      <td>train_a</td>\n",
       "      <td>0 days 00:01:00</td>\n",
       "      <td>-5.58</td>\n",
       "      <td>3.16</td>\n",
       "      <td>1.17</td>\n",
       "      <td>False</td>\n",
       "      <td>-5.58</td>\n",
       "      <td>6.518504</td>\n",
       "    </tr>\n",
       "    <tr>\n",
       "      <th>2</th>\n",
       "      <td>train_a</td>\n",
       "      <td>0 days 00:02:00</td>\n",
       "      <td>-5.15</td>\n",
       "      <td>3.66</td>\n",
       "      <td>0.85</td>\n",
       "      <td>False</td>\n",
       "      <td>-5.15</td>\n",
       "      <td>6.374998</td>\n",
       "    </tr>\n",
       "    <tr>\n",
       "      <th>3</th>\n",
       "      <td>train_a</td>\n",
       "      <td>0 days 00:03:00</td>\n",
       "      <td>-5.20</td>\n",
       "      <td>3.68</td>\n",
       "      <td>0.68</td>\n",
       "      <td>False</td>\n",
       "      <td>-5.20</td>\n",
       "      <td>6.406622</td>\n",
       "    </tr>\n",
       "    <tr>\n",
       "      <th>4</th>\n",
       "      <td>train_a</td>\n",
       "      <td>0 days 00:04:00</td>\n",
       "      <td>-5.12</td>\n",
       "      <td>3.68</td>\n",
       "      <td>0.49</td>\n",
       "      <td>False</td>\n",
       "      <td>-5.12</td>\n",
       "      <td>6.324310</td>\n",
       "    </tr>\n",
       "  </tbody>\n",
       "</table>\n",
       "</div>"
      ],
      "text/plain": [
       "    period        timedelta  bx_gse  by_gse  bz_gse  Irregular_Activity  \\\n",
       "0  train_a  0 days 00:00:00   -5.55    3.00    1.25               False   \n",
       "1  train_a  0 days 00:01:00   -5.58    3.16    1.17               False   \n",
       "2  train_a  0 days 00:02:00   -5.15    3.66    0.85               False   \n",
       "3  train_a  0 days 00:03:00   -5.20    3.68    0.68               False   \n",
       "4  train_a  0 days 00:04:00   -5.12    3.68    0.49               False   \n",
       "\n",
       "   filtered_x  Magnitude  \n",
       "0       -5.55   6.431563  \n",
       "1       -5.58   6.518504  \n",
       "2       -5.15   6.374998  \n",
       "3       -5.20   6.406622  \n",
       "4       -5.12   6.324310  "
      ]
     },
     "execution_count": 19,
     "metadata": {},
     "output_type": "execute_result"
    }
   ],
   "source": [
    "filtered_train_a['Magnitude'] = ((filtered_train_a['bx_gse']**2) + (filtered_train_a['by_gse'] ** 2) + (filtered_train_a['bz_gse'] ** 2)) ** 0.5\n",
    "filtered_train_a.head()"
   ]
  },
  {
   "cell_type": "code",
   "execution_count": 20,
   "metadata": {},
   "outputs": [
    {
     "ename": "ValueError",
     "evalue": "The truth value of a Series is ambiguous. Use a.empty, a.bool(), a.item(), a.any() or a.all().",
     "output_type": "error",
     "traceback": [
      "\u001b[1;31m---------------------------------------------------------------------------\u001b[0m",
      "\u001b[1;31mValueError\u001b[0m                                Traceback (most recent call last)",
      "\u001b[1;32m~\\AppData\\Local\\Temp\\ipykernel_20936\\1415994704.py\u001b[0m in \u001b[0;36m?\u001b[1;34m()\u001b[0m\n\u001b[0;32m      4\u001b[0m \u001b[1;33m\u001b[0m\u001b[0m\n\u001b[0;32m      5\u001b[0m \u001b[1;33m\u001b[0m\u001b[0m\n\u001b[0;32m      6\u001b[0m \u001b[0max\u001b[0m\u001b[1;33m.\u001b[0m\u001b[0mplot\u001b[0m\u001b[1;33m(\u001b[0m\u001b[0mfiltered_train_a\u001b[0m\u001b[1;33m.\u001b[0m\u001b[0mindex\u001b[0m\u001b[1;33m,\u001b[0m \u001b[0mfiltered_train_a\u001b[0m\u001b[1;33m[\u001b[0m\u001b[1;34m'Magnitude'\u001b[0m\u001b[1;33m]\u001b[0m\u001b[1;33m,\u001b[0m \u001b[0mcolor\u001b[0m\u001b[1;33m=\u001b[0m \u001b[1;34m'skyblue'\u001b[0m\u001b[1;33m,\u001b[0m \u001b[0mmarker\u001b[0m \u001b[1;33m=\u001b[0m \u001b[1;34m'o'\u001b[0m\u001b[1;33m,\u001b[0m \u001b[0mlabel\u001b[0m\u001b[1;33m=\u001b[0m\u001b[1;34m'X'\u001b[0m\u001b[1;33m)\u001b[0m\u001b[1;33m\u001b[0m\u001b[1;33m\u001b[0m\u001b[0m\n\u001b[0;32m      7\u001b[0m \u001b[1;33m\u001b[0m\u001b[0m\n\u001b[1;32m----> 8\u001b[1;33m \u001b[0max\u001b[0m\u001b[1;33m.\u001b[0m\u001b[0maxhline\u001b[0m\u001b[1;33m(\u001b[0m\u001b[0my\u001b[0m\u001b[1;33m=\u001b[0m\u001b[0mmag_high_thresh\u001b[0m\u001b[1;33m,\u001b[0m \u001b[0mcolor\u001b[0m\u001b[1;33m=\u001b[0m\u001b[1;34m'black'\u001b[0m\u001b[1;33m,\u001b[0m \u001b[0mlinestyle\u001b[0m\u001b[1;33m=\u001b[0m\u001b[1;34m'dashed'\u001b[0m\u001b[1;33m)\u001b[0m\u001b[1;33m\u001b[0m\u001b[1;33m\u001b[0m\u001b[0m\n\u001b[0m\u001b[0;32m      9\u001b[0m \u001b[1;33m\u001b[0m\u001b[0m\n\u001b[0;32m     10\u001b[0m \u001b[1;33m\u001b[0m\u001b[0m\n\u001b[0;32m     11\u001b[0m \u001b[1;33m\u001b[0m\u001b[0m\n",
      "\u001b[1;32mc:\\Users\\chchr\\Python Projects\\AstroPi\\.venv\\Lib\\site-packages\\matplotlib\\axes\\_axes.py\u001b[0m in \u001b[0;36m?\u001b[1;34m(self, y, xmin, xmax, **kwargs)\u001b[0m\n\u001b[0;32m    801\u001b[0m         \u001b[0mymin\u001b[0m\u001b[1;33m,\u001b[0m \u001b[0mymax\u001b[0m \u001b[1;33m=\u001b[0m \u001b[0mself\u001b[0m\u001b[1;33m.\u001b[0m\u001b[0mget_ybound\u001b[0m\u001b[1;33m(\u001b[0m\u001b[1;33m)\u001b[0m\u001b[1;33m\u001b[0m\u001b[1;33m\u001b[0m\u001b[0m\n\u001b[0;32m    802\u001b[0m \u001b[1;33m\u001b[0m\u001b[0m\n\u001b[0;32m    803\u001b[0m         \u001b[1;31m# Strip away the units for comparison with non-unitized bounds.\u001b[0m\u001b[1;33m\u001b[0m\u001b[1;33m\u001b[0m\u001b[0m\n\u001b[0;32m    804\u001b[0m         \u001b[0myy\u001b[0m\u001b[1;33m,\u001b[0m \u001b[1;33m=\u001b[0m \u001b[0mself\u001b[0m\u001b[1;33m.\u001b[0m\u001b[0m_process_unit_info\u001b[0m\u001b[1;33m(\u001b[0m\u001b[1;33m[\u001b[0m\u001b[1;33m(\u001b[0m\u001b[1;34m\"y\"\u001b[0m\u001b[1;33m,\u001b[0m \u001b[0my\u001b[0m\u001b[1;33m)\u001b[0m\u001b[1;33m]\u001b[0m\u001b[1;33m,\u001b[0m \u001b[0mkwargs\u001b[0m\u001b[1;33m)\u001b[0m\u001b[1;33m\u001b[0m\u001b[1;33m\u001b[0m\u001b[0m\n\u001b[1;32m--> 805\u001b[1;33m         \u001b[0mscaley\u001b[0m \u001b[1;33m=\u001b[0m \u001b[1;33m(\u001b[0m\u001b[0myy\u001b[0m \u001b[1;33m<\u001b[0m \u001b[0mymin\u001b[0m\u001b[1;33m)\u001b[0m \u001b[1;32mor\u001b[0m \u001b[1;33m(\u001b[0m\u001b[0myy\u001b[0m \u001b[1;33m>\u001b[0m \u001b[0mymax\u001b[0m\u001b[1;33m)\u001b[0m\u001b[1;33m\u001b[0m\u001b[1;33m\u001b[0m\u001b[0m\n\u001b[0m\u001b[0;32m    806\u001b[0m \u001b[1;33m\u001b[0m\u001b[0m\n\u001b[0;32m    807\u001b[0m         \u001b[0mtrans\u001b[0m \u001b[1;33m=\u001b[0m \u001b[0mself\u001b[0m\u001b[1;33m.\u001b[0m\u001b[0mget_yaxis_transform\u001b[0m\u001b[1;33m(\u001b[0m\u001b[0mwhich\u001b[0m\u001b[1;33m=\u001b[0m\u001b[1;34m'grid'\u001b[0m\u001b[1;33m)\u001b[0m\u001b[1;33m\u001b[0m\u001b[1;33m\u001b[0m\u001b[0m\n\u001b[0;32m    808\u001b[0m         \u001b[0ml\u001b[0m \u001b[1;33m=\u001b[0m \u001b[0mmlines\u001b[0m\u001b[1;33m.\u001b[0m\u001b[0mLine2D\u001b[0m\u001b[1;33m(\u001b[0m\u001b[1;33m[\u001b[0m\u001b[0mxmin\u001b[0m\u001b[1;33m,\u001b[0m \u001b[0mxmax\u001b[0m\u001b[1;33m]\u001b[0m\u001b[1;33m,\u001b[0m \u001b[1;33m[\u001b[0m\u001b[0my\u001b[0m\u001b[1;33m,\u001b[0m \u001b[0my\u001b[0m\u001b[1;33m]\u001b[0m\u001b[1;33m,\u001b[0m \u001b[0mtransform\u001b[0m\u001b[1;33m=\u001b[0m\u001b[0mtrans\u001b[0m\u001b[1;33m,\u001b[0m \u001b[1;33m**\u001b[0m\u001b[0mkwargs\u001b[0m\u001b[1;33m)\u001b[0m\u001b[1;33m\u001b[0m\u001b[1;33m\u001b[0m\u001b[0m\n",
      "\u001b[1;32mc:\\Users\\chchr\\Python Projects\\AstroPi\\.venv\\Lib\\site-packages\\pandas\\core\\generic.py\u001b[0m in \u001b[0;36m?\u001b[1;34m(self)\u001b[0m\n\u001b[0;32m   1575\u001b[0m     \u001b[1;33m@\u001b[0m\u001b[0mfinal\u001b[0m\u001b[1;33m\u001b[0m\u001b[1;33m\u001b[0m\u001b[0m\n\u001b[0;32m   1576\u001b[0m     \u001b[1;32mdef\u001b[0m \u001b[0m__nonzero__\u001b[0m\u001b[1;33m(\u001b[0m\u001b[0mself\u001b[0m\u001b[1;33m)\u001b[0m \u001b[1;33m->\u001b[0m \u001b[0mNoReturn\u001b[0m\u001b[1;33m:\u001b[0m\u001b[1;33m\u001b[0m\u001b[1;33m\u001b[0m\u001b[0m\n\u001b[1;32m-> 1577\u001b[1;33m         raise ValueError(\n\u001b[0m\u001b[0;32m   1578\u001b[0m             \u001b[1;33mf\"\u001b[0m\u001b[1;33mThe truth value of a \u001b[0m\u001b[1;33m{\u001b[0m\u001b[0mtype\u001b[0m\u001b[1;33m(\u001b[0m\u001b[0mself\u001b[0m\u001b[1;33m)\u001b[0m\u001b[1;33m.\u001b[0m\u001b[0m__name__\u001b[0m\u001b[1;33m}\u001b[0m\u001b[1;33m is ambiguous. \u001b[0m\u001b[1;33m\"\u001b[0m\u001b[1;33m\u001b[0m\u001b[1;33m\u001b[0m\u001b[0m\n\u001b[0;32m   1579\u001b[0m             \u001b[1;34m\"Use a.empty, a.bool(), a.item(), a.any() or a.all().\"\u001b[0m\u001b[1;33m\u001b[0m\u001b[1;33m\u001b[0m\u001b[0m\n\u001b[0;32m   1580\u001b[0m         \u001b[1;33m)\u001b[0m\u001b[1;33m\u001b[0m\u001b[1;33m\u001b[0m\u001b[0m\n",
      "\u001b[1;31mValueError\u001b[0m: The truth value of a Series is ambiguous. Use a.empty, a.bool(), a.item(), a.any() or a.all()."
     ]
    },
    {
     "data": {
      "image/png": "[encoded data removed]",
      "text/plain": [
       "<Figure size 1000x600 with 1 Axes>"
      ]
     },
     "metadata": {},
     "output_type": "display_data"
    }
   ],
   "source": [
    "fig, ax = plt.subplots(figsize=(10,6))\n",
    "\n",
    "mag_high_thresh = 3 * filtered_train_a['Magnitude'] \n",
    "\n",
    "\n",
    "ax.plot(filtered_train_a.index, filtered_train_a['Magnitude'], color= 'skyblue', marker = 'o', label='X')\n",
    "\n",
    "ax.axhline(y=mag_high_thresh, color='black', linestyle='dashed')\n",
    "\n",
    "\n",
    "\n",
    "ax.set_xlabel('Time')\n",
    "ax.set_ylabel('Magentic strength in μT')\n",
    "\n",
    "\n",
    "ax.legend()\n",
    "plt.savefig('plot.png')"
   ]
  },
  {
   "cell_type": "markdown",
   "metadata": {},
   "source": [
    "# Main dataset - Logistic Regression Training"
   ]
  },
  {
   "cell_type": "code",
   "execution_count": 21,
   "metadata": {},
   "outputs": [],
   "source": [
    "from sklearn.linear_model import LogisticRegression\n",
    "from sklearn.preprocessing import StandardScaler\n",
    "from sklearn.model_selection import train_test_split\n",
    "import numpy as np\n",
    "from sklearn.metrics import accuracy_score, classification_report"
   ]
  },
  {
   "cell_type": "code",
   "execution_count": 22,
   "metadata": {},
   "outputs": [
    {
     "data": {
      "text/html": [
       "<div>\n",
       "<style scoped>\n",
       "    .dataframe tbody tr th:only-of-type {\n",
       "        vertical-align: middle;\n",
       "    }\n",
       "\n",
       "    .dataframe tbody tr th {\n",
       "        vertical-align: top;\n",
       "    }\n",
       "\n",
       "    .dataframe thead th {\n",
       "        text-align: right;\n",
       "    }\n",
       "</style>\n",
       "<table border=\"1\" class=\"dataframe\">\n",
       "  <thead>\n",
       "    <tr style=\"text-align: right;\">\n",
       "      <th></th>\n",
       "      <th>period</th>\n",
       "      <th>timedelta</th>\n",
       "      <th>bx_gse</th>\n",
       "      <th>by_gse</th>\n",
       "      <th>bz_gse</th>\n",
       "      <th>Irregular_Activity</th>\n",
       "      <th>filtered_x</th>\n",
       "      <th>Magnitude</th>\n",
       "    </tr>\n",
       "  </thead>\n",
       "  <tbody>\n",
       "    <tr>\n",
       "      <th>0</th>\n",
       "      <td>train_a</td>\n",
       "      <td>0 days 00:00:00</td>\n",
       "      <td>-5.55</td>\n",
       "      <td>3.00</td>\n",
       "      <td>1.25</td>\n",
       "      <td>False</td>\n",
       "      <td>-5.55</td>\n",
       "      <td>6.431563</td>\n",
       "    </tr>\n",
       "    <tr>\n",
       "      <th>1</th>\n",
       "      <td>train_a</td>\n",
       "      <td>0 days 00:01:00</td>\n",
       "      <td>-5.58</td>\n",
       "      <td>3.16</td>\n",
       "      <td>1.17</td>\n",
       "      <td>False</td>\n",
       "      <td>-5.58</td>\n",
       "      <td>6.518504</td>\n",
       "    </tr>\n",
       "    <tr>\n",
       "      <th>2</th>\n",
       "      <td>train_a</td>\n",
       "      <td>0 days 00:02:00</td>\n",
       "      <td>-5.15</td>\n",
       "      <td>3.66</td>\n",
       "      <td>0.85</td>\n",
       "      <td>False</td>\n",
       "      <td>-5.15</td>\n",
       "      <td>6.374998</td>\n",
       "    </tr>\n",
       "    <tr>\n",
       "      <th>3</th>\n",
       "      <td>train_a</td>\n",
       "      <td>0 days 00:03:00</td>\n",
       "      <td>-5.20</td>\n",
       "      <td>3.68</td>\n",
       "      <td>0.68</td>\n",
       "      <td>False</td>\n",
       "      <td>-5.20</td>\n",
       "      <td>6.406622</td>\n",
       "    </tr>\n",
       "    <tr>\n",
       "      <th>4</th>\n",
       "      <td>train_a</td>\n",
       "      <td>0 days 00:04:00</td>\n",
       "      <td>-5.12</td>\n",
       "      <td>3.68</td>\n",
       "      <td>0.49</td>\n",
       "      <td>False</td>\n",
       "      <td>-5.12</td>\n",
       "      <td>6.324310</td>\n",
       "    </tr>\n",
       "  </tbody>\n",
       "</table>\n",
       "</div>"
      ],
      "text/plain": [
       "    period        timedelta  bx_gse  by_gse  bz_gse  Irregular_Activity  \\\n",
       "0  train_a  0 days 00:00:00   -5.55    3.00    1.25               False   \n",
       "1  train_a  0 days 00:01:00   -5.58    3.16    1.17               False   \n",
       "2  train_a  0 days 00:02:00   -5.15    3.66    0.85               False   \n",
       "3  train_a  0 days 00:03:00   -5.20    3.68    0.68               False   \n",
       "4  train_a  0 days 00:04:00   -5.12    3.68    0.49               False   \n",
       "\n",
       "   filtered_x  Magnitude  \n",
       "0       -5.55   6.431563  \n",
       "1       -5.58   6.518504  \n",
       "2       -5.15   6.374998  \n",
       "3       -5.20   6.406622  \n",
       "4       -5.12   6.324310  "
      ]
     },
     "execution_count": 22,
     "metadata": {},
     "output_type": "execute_result"
    }
   ],
   "source": [
    "filtered_train_a.head()"
   ]
  },
  {
   "cell_type": "code",
   "execution_count": 23,
   "metadata": {},
   "outputs": [],
   "source": [
    "main_dataset = filtered_train_a.drop(['period', 'bx_gse'], axis=1)\n",
    "main_dataset = main_dataset.dropna()"
   ]
  },
  {
   "cell_type": "code",
   "execution_count": 24,
   "metadata": {},
   "outputs": [
    {
     "data": {
      "text/plain": [
       "np.float64(41.13)"
      ]
     },
     "execution_count": 24,
     "metadata": {},
     "output_type": "execute_result"
    }
   ],
   "source": [
    "main_dataset['filtered_x'].max()"
   ]
  },
  {
   "cell_type": "markdown",
   "metadata": {},
   "source": [
    "## Data Preprocesing"
   ]
  },
  {
   "cell_type": "code",
   "execution_count": 25,
   "metadata": {},
   "outputs": [
    {
     "data": {
      "text/html": [
       "<div>\n",
       "<style scoped>\n",
       "    .dataframe tbody tr th:only-of-type {\n",
       "        vertical-align: middle;\n",
       "    }\n",
       "\n",
       "    .dataframe tbody tr th {\n",
       "        vertical-align: top;\n",
       "    }\n",
       "\n",
       "    .dataframe thead th {\n",
       "        text-align: right;\n",
       "    }\n",
       "</style>\n",
       "<table border=\"1\" class=\"dataframe\">\n",
       "  <thead>\n",
       "    <tr style=\"text-align: right;\">\n",
       "      <th></th>\n",
       "      <th>by_gse</th>\n",
       "      <th>bz_gse</th>\n",
       "      <th>Irregular_Activity</th>\n",
       "      <th>filtered_x</th>\n",
       "      <th>Magnitude</th>\n",
       "      <th>minutes</th>\n",
       "    </tr>\n",
       "  </thead>\n",
       "  <tbody>\n",
       "    <tr>\n",
       "      <th>0</th>\n",
       "      <td>3.00</td>\n",
       "      <td>1.25</td>\n",
       "      <td>False</td>\n",
       "      <td>-5.55</td>\n",
       "      <td>6.431563</td>\n",
       "      <td>0</td>\n",
       "    </tr>\n",
       "    <tr>\n",
       "      <th>1</th>\n",
       "      <td>3.16</td>\n",
       "      <td>1.17</td>\n",
       "      <td>False</td>\n",
       "      <td>-5.58</td>\n",
       "      <td>6.518504</td>\n",
       "      <td>1</td>\n",
       "    </tr>\n",
       "    <tr>\n",
       "      <th>2</th>\n",
       "      <td>3.66</td>\n",
       "      <td>0.85</td>\n",
       "      <td>False</td>\n",
       "      <td>-5.15</td>\n",
       "      <td>6.374998</td>\n",
       "      <td>2</td>\n",
       "    </tr>\n",
       "    <tr>\n",
       "      <th>3</th>\n",
       "      <td>3.68</td>\n",
       "      <td>0.68</td>\n",
       "      <td>False</td>\n",
       "      <td>-5.20</td>\n",
       "      <td>6.406622</td>\n",
       "      <td>3</td>\n",
       "    </tr>\n",
       "    <tr>\n",
       "      <th>4</th>\n",
       "      <td>3.68</td>\n",
       "      <td>0.49</td>\n",
       "      <td>False</td>\n",
       "      <td>-5.12</td>\n",
       "      <td>6.324310</td>\n",
       "      <td>4</td>\n",
       "    </tr>\n",
       "  </tbody>\n",
       "</table>\n",
       "</div>"
      ],
      "text/plain": [
       "   by_gse  bz_gse  Irregular_Activity  filtered_x  Magnitude  minutes\n",
       "0    3.00    1.25               False       -5.55   6.431563        0\n",
       "1    3.16    1.17               False       -5.58   6.518504        1\n",
       "2    3.66    0.85               False       -5.15   6.374998        2\n",
       "3    3.68    0.68               False       -5.20   6.406622        3\n",
       "4    3.68    0.49               False       -5.12   6.324310        4"
      ]
     },
     "execution_count": 25,
     "metadata": {},
     "output_type": "execute_result"
    }
   ],
   "source": [
    "def duration_to_minutes(duration_str):\n",
    "    days_part, time_part = duration_str.split(\" days \")\n",
    "    days = int(days_part)\n",
    "    hours, minutes, seconds = map(int, time_part.split(\":\"))\n",
    "    return days * 24 * 60 + hours * 60 + minutes + seconds // 60\n",
    "\n",
    "\n",
    "main_dataset['minutes'] = df['timedelta'].apply(duration_to_minutes)\n",
    "main_dataset = main_dataset.drop(['timedelta'], axis=1)\n",
    "main_dataset.head()\n",
    "\n"
   ]
  },
  {
   "cell_type": "code",
   "execution_count": 26,
   "metadata": {},
   "outputs": [
    {
     "data": {
      "text/html": [
       "<div>\n",
       "<style scoped>\n",
       "    .dataframe tbody tr th:only-of-type {\n",
       "        vertical-align: middle;\n",
       "    }\n",
       "\n",
       "    .dataframe tbody tr th {\n",
       "        vertical-align: top;\n",
       "    }\n",
       "\n",
       "    .dataframe thead th {\n",
       "        text-align: right;\n",
       "    }\n",
       "</style>\n",
       "<table border=\"1\" class=\"dataframe\">\n",
       "  <thead>\n",
       "    <tr style=\"text-align: right;\">\n",
       "      <th></th>\n",
       "      <th>by_gse</th>\n",
       "      <th>bz_gse</th>\n",
       "      <th>Irregular_Activity</th>\n",
       "      <th>filtered_x</th>\n",
       "      <th>Magnitude</th>\n",
       "      <th>minutes</th>\n",
       "    </tr>\n",
       "  </thead>\n",
       "  <tbody>\n",
       "    <tr>\n",
       "      <th>0</th>\n",
       "      <td>3.00</td>\n",
       "      <td>1.25</td>\n",
       "      <td>False</td>\n",
       "      <td>-5.55</td>\n",
       "      <td>6.431563</td>\n",
       "      <td>0</td>\n",
       "    </tr>\n",
       "    <tr>\n",
       "      <th>1</th>\n",
       "      <td>3.16</td>\n",
       "      <td>1.17</td>\n",
       "      <td>False</td>\n",
       "      <td>-5.58</td>\n",
       "      <td>6.518504</td>\n",
       "      <td>1</td>\n",
       "    </tr>\n",
       "    <tr>\n",
       "      <th>2</th>\n",
       "      <td>3.66</td>\n",
       "      <td>0.85</td>\n",
       "      <td>False</td>\n",
       "      <td>-5.15</td>\n",
       "      <td>6.374998</td>\n",
       "      <td>2</td>\n",
       "    </tr>\n",
       "    <tr>\n",
       "      <th>3</th>\n",
       "      <td>3.68</td>\n",
       "      <td>0.68</td>\n",
       "      <td>False</td>\n",
       "      <td>-5.20</td>\n",
       "      <td>6.406622</td>\n",
       "      <td>3</td>\n",
       "    </tr>\n",
       "    <tr>\n",
       "      <th>4</th>\n",
       "      <td>3.68</td>\n",
       "      <td>0.49</td>\n",
       "      <td>False</td>\n",
       "      <td>-5.12</td>\n",
       "      <td>6.324310</td>\n",
       "      <td>4</td>\n",
       "    </tr>\n",
       "  </tbody>\n",
       "</table>\n",
       "</div>"
      ],
      "text/plain": [
       "   by_gse  bz_gse  Irregular_Activity  filtered_x  Magnitude  minutes\n",
       "0    3.00    1.25               False       -5.55   6.431563        0\n",
       "1    3.16    1.17               False       -5.58   6.518504        1\n",
       "2    3.66    0.85               False       -5.15   6.374998        2\n",
       "3    3.68    0.68               False       -5.20   6.406622        3\n",
       "4    3.68    0.49               False       -5.12   6.324310        4"
      ]
     },
     "execution_count": 26,
     "metadata": {},
     "output_type": "execute_result"
    }
   ],
   "source": [
    "main_dataset.head()"
   ]
  },
  {
   "cell_type": "code",
   "execution_count": 27,
   "metadata": {},
   "outputs": [],
   "source": [
    "X = main_dataset[['filtered_x', 'Magnitude', 'minutes', 'by_gse', 'bz_gse']]\n",
    "y = main_dataset['Irregular_Activity']"
   ]
  },
  {
   "cell_type": "code",
   "execution_count": 28,
   "metadata": {},
   "outputs": [],
   "source": [
    "X_train, X_test, y_train, y_test = train_test_split(X, y, test_size=0.2, random_state=42)"
   ]
  },
  {
   "cell_type": "code",
   "execution_count": 29,
   "metadata": {},
   "outputs": [],
   "source": [
    "scaler = StandardScaler()\n",
    "X_train_scaled = scaler.fit_transform(X_train)\n",
    "X_test_scaled = scaler.transform(X_test)"
   ]
  },
  {
   "cell_type": "markdown",
   "metadata": {},
   "source": [
    "#### Verifying to check mean is 0 and std deviation is 0"
   ]
  },
  {
   "cell_type": "code",
   "execution_count": 30,
   "metadata": {},
   "outputs": [
    {
     "name": "stdout",
     "output_type": "stream",
     "text": [
      "Mean of scaled training data: [-4.78541475e-17 -4.04713229e-16 -4.20683409e-18  2.24496066e-17\n",
      "  1.57107772e-17]\n",
      "Standard deviation of scaled training data: [1. 1. 1. 1. 1.]\n"
     ]
    }
   ],
   "source": [
    "print(\"Mean of scaled training data:\", np.mean(X_train_scaled, axis=0))\n",
    "print(\"Standard deviation of scaled training data:\", np.std(X_train_scaled, axis=0))"
   ]
  },
  {
   "cell_type": "code",
   "execution_count": 31,
   "metadata": {},
   "outputs": [
    {
     "name": "stdout",
     "output_type": "stream",
     "text": [
      "Accuracy: 0.9888413761138782\n",
      "Classification Report:\n",
      "               precision    recall  f1-score   support\n",
      "\n",
      "       False       1.00      0.99      0.99    313096\n",
      "        True       0.31      0.67      0.42      1907\n",
      "\n",
      "    accuracy                           0.99    315003\n",
      "   macro avg       0.65      0.83      0.71    315003\n",
      "weighted avg       0.99      0.99      0.99    315003\n",
      "\n"
     ]
    }
   ],
   "source": [
    "model = LogisticRegression(class_weight={0:1, 1:8}, random_state=42)\n",
    "model.fit(X_train_scaled, y_train)\n",
    "wind_prediction = model.predict(X_test_scaled)\n",
    "print(\"Accuracy:\", accuracy_score(y_test, wind_prediction))\n",
    "print(\"Classification Report:\\n\", classification_report(y_test, wind_prediction))"
   ]
  },
  {
   "cell_type": "markdown",
   "metadata": {},
   "source": [
    "Support indicates that there is a massive imbalance between the False and True class. I will visualise a pie chart to show ~"
   ]
  },
  {
   "cell_type": "code",
   "execution_count": 32,
   "metadata": {},
   "outputs": [
    {
     "data": {
      "text/plain": [
       "Text(0.5, 1.0, 'Imbalance of data between True and False values')"
      ]
     },
     "execution_count": 32,
     "metadata": {},
     "output_type": "execute_result"
    },
    {
     "data": {
      "image/png": "[encoded data removed]",
      "text/plain": [
       "<Figure size 500x300 with 1 Axes>"
      ]
     },
     "metadata": {},
     "output_type": "display_data"
    }
   ],
   "source": [
    "fig, ax = plt.subplots(figsize=(5,3))\n",
    "true_or_false = main_dataset['Irregular_Activity'].value_counts().reset_index()\n",
    "labels = ['False', 'True']\n",
    "ax.pie(true_or_false['count'], labels=labels, colors=['turquoise', 'orange'], autopct='%1.1f%%')\n",
    "ax.set_xlabel('Classes of Activity')\n",
    "\n",
    "ax.set_title('Imbalance of data between True and False values')"
   ]
  },
  {
   "cell_type": "markdown",
   "metadata": {},
   "source": [
    "My solution I will try to implement is downscaling (Removing False data so ratio of False to True is equal)"
   ]
  },
  {
   "cell_type": "code",
   "execution_count": 33,
   "metadata": {},
   "outputs": [],
   "source": [
    "X = main_dataset[['filtered_x', 'Magnitude', 'minutes', 'by_gse', 'bz_gse']]\n",
    "y = main_dataset['Irregular_Activity']"
   ]
  },
  {
   "cell_type": "code",
   "execution_count": 34,
   "metadata": {},
   "outputs": [
    {
     "data": {
      "text/plain": [
       "Text(0.5, 1.0, 'Imbalance of data between True and False values')"
      ]
     },
     "execution_count": 34,
     "metadata": {},
     "output_type": "execute_result"
    },
    {
     "data": {
      "image/png": "[encoded data removed]",
      "text/plain": [
       "<Figure size 500x300 with 1 Axes>"
      ]
     },
     "metadata": {},
     "output_type": "display_data"
    }
   ],
   "source": [
    "from imblearn.under_sampling import RandomUnderSampler\n",
    "\n",
    "under_sampler = RandomUnderSampler(sampling_strategy=1)\n",
    "\n",
    "X_resize, y_resize = under_sampler.fit_resample(X, y)\n",
    "\n",
    "fig, ax = plt.subplots(figsize=(5,3))\n",
    "true_or_false = y_resize.value_counts().reset_index()\n",
    "ax.pie(true_or_false['count'], labels=labels, colors=['turquoise', 'orange'], autopct='%1.1f%%')\n",
    "ax.set_xlabel('Classes of Activity')\n",
    "\n",
    "ax.set_title('Imbalance of data between True and False values')"
   ]
  },
  {
   "cell_type": "markdown",
   "metadata": {},
   "source": [
    "Now that the proportions are the same, we can test the model again"
   ]
  },
  {
   "cell_type": "code",
   "execution_count": 35,
   "metadata": {
    "ExecuteTime": {
     "end_time": "2025-02-13T21:26:56.432270Z",
     "start_time": "2025-02-13T21:26:56.225957Z"
    }
   },
   "outputs": [
    {
     "name": "stdout",
     "output_type": "stream",
     "text": [
      "Accuracy: 0.9683234612413083\n",
      "Classification Report:\n",
      "               precision    recall  f1-score   support\n",
      "\n",
      "       False       1.00      0.94      0.97      1957\n",
      "        True       0.94      1.00      0.97      1926\n",
      "\n",
      "    accuracy                           0.97      3883\n",
      "   macro avg       0.97      0.97      0.97      3883\n",
      "weighted avg       0.97      0.97      0.97      3883\n",
      "\n"
     ]
    }
   ],
   "source": [
    "\n",
    "X_train, X_test, y_train, y_test = train_test_split(X_resize, y_resize, test_size=0.2, random_state=42)\n",
    "\n",
    "scaler = StandardScaler()\n",
    "X_train_scaled = scaler.fit_transform(X_train)\n",
    "X_test_scaled = scaler.transform(X_test)\n",
    "\n",
    "model = LogisticRegression(class_weight={0:1, 1:8}, random_state=42)\n",
    "model.fit(X_train_scaled, y_train)\n",
    "\n",
    "wind_prediction = model.predict(X_test_scaled)\n",
    "\n",
    "print(\"Accuracy:\", accuracy_score(y_test, wind_prediction))\n",
    "print(\"Classification Report:\\n\", classification_report(y_test, wind_prediction))"
   ]
  },
  {
   "cell_type": "code",
   "execution_count": 36,
   "metadata": {},
   "outputs": [],
   "source": [
    "import pickle\n",
    "\n",
    "with open('model.csv','wb') as f:\n",
    "    pickle.dump(model, f)"
   ]
  }
 ],
 "metadata": {
  "kernelspec": {
   "display_name": ".venv",
   "language": "python",
   "name": "python3"
  },
  "language_info": {
   "codemirror_mode": {
    "name": "ipython",
    "version": 3
   },
   "file_extension": ".py",
   "mimetype": "text/x-python",
   "name": "python",
   "nbconvert_exporter": "python",
   "pygments_lexer": "ipython3",
   "version": "3.13.1"
  }
 },
 "nbformat": 4,
 "nbformat_minor": 2
}
