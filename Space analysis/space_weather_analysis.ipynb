{
 "cells": [
  {
   "cell_type": "markdown",
   "metadata": {},
   "source": [
    "# Solar Wind investigation + Classification algorithm"
   ]
  },
  {
   "cell_type": "code",
   "execution_count": 2,
   "metadata": {},
   "outputs": [],
   "source": [
    "import pandas as pd\n",
    "import matplotlib.pyplot as plt    "
   ]
  },
  {
   "cell_type": "markdown",
   "metadata": {},
   "source": [
    "## Data Cleaning and exploration"
   ]
  },
  {
   "cell_type": "code",
   "execution_count": 3,
   "metadata": {},
   "outputs": [
    {
     "data": {
      "text/html": [
       "<div>\n",
       "<style scoped>\n",
       "    .dataframe tbody tr th:only-of-type {\n",
       "        vertical-align: middle;\n",
       "    }\n",
       "\n",
       "    .dataframe tbody tr th {\n",
       "        vertical-align: top;\n",
       "    }\n",
       "\n",
       "    .dataframe thead th {\n",
       "        text-align: right;\n",
       "    }\n",
       "</style>\n",
       "<table border=\"1\" class=\"dataframe\">\n",
       "  <thead>\n",
       "    <tr style=\"text-align: right;\">\n",
       "      <th></th>\n",
       "      <th>period</th>\n",
       "      <th>timedelta</th>\n",
       "      <th>bx_gse</th>\n",
       "      <th>by_gse</th>\n",
       "      <th>bz_gse</th>\n",
       "      <th>theta_gse</th>\n",
       "      <th>phi_gse</th>\n",
       "      <th>bx_gsm</th>\n",
       "      <th>by_gsm</th>\n",
       "      <th>bz_gsm</th>\n",
       "      <th>theta_gsm</th>\n",
       "      <th>phi_gsm</th>\n",
       "      <th>bt</th>\n",
       "      <th>density</th>\n",
       "      <th>speed</th>\n",
       "      <th>temperature</th>\n",
       "      <th>source</th>\n",
       "    </tr>\n",
       "  </thead>\n",
       "  <tbody>\n",
       "    <tr>\n",
       "      <th>0</th>\n",
       "      <td>train_a</td>\n",
       "      <td>0 days 00:00:00</td>\n",
       "      <td>-5.55</td>\n",
       "      <td>3.00</td>\n",
       "      <td>1.25</td>\n",
       "      <td>11.09</td>\n",
       "      <td>153.37</td>\n",
       "      <td>-5.55</td>\n",
       "      <td>3.00</td>\n",
       "      <td>1.25</td>\n",
       "      <td>11.09</td>\n",
       "      <td>153.37</td>\n",
       "      <td>6.80</td>\n",
       "      <td>1.53</td>\n",
       "      <td>383.92</td>\n",
       "      <td>110237.0</td>\n",
       "      <td>ac</td>\n",
       "    </tr>\n",
       "    <tr>\n",
       "      <th>1</th>\n",
       "      <td>train_a</td>\n",
       "      <td>0 days 00:01:00</td>\n",
       "      <td>-5.58</td>\n",
       "      <td>3.16</td>\n",
       "      <td>1.17</td>\n",
       "      <td>10.10</td>\n",
       "      <td>151.91</td>\n",
       "      <td>-5.58</td>\n",
       "      <td>3.16</td>\n",
       "      <td>1.17</td>\n",
       "      <td>10.10</td>\n",
       "      <td>151.91</td>\n",
       "      <td>6.83</td>\n",
       "      <td>1.69</td>\n",
       "      <td>381.79</td>\n",
       "      <td>123825.0</td>\n",
       "      <td>ac</td>\n",
       "    </tr>\n",
       "    <tr>\n",
       "      <th>2</th>\n",
       "      <td>train_a</td>\n",
       "      <td>0 days 00:02:00</td>\n",
       "      <td>-5.15</td>\n",
       "      <td>3.66</td>\n",
       "      <td>0.85</td>\n",
       "      <td>7.87</td>\n",
       "      <td>146.04</td>\n",
       "      <td>-5.15</td>\n",
       "      <td>3.66</td>\n",
       "      <td>0.85</td>\n",
       "      <td>7.87</td>\n",
       "      <td>146.04</td>\n",
       "      <td>6.77</td>\n",
       "      <td>1.97</td>\n",
       "      <td>389.11</td>\n",
       "      <td>82548.0</td>\n",
       "      <td>ac</td>\n",
       "    </tr>\n",
       "    <tr>\n",
       "      <th>3</th>\n",
       "      <td>train_a</td>\n",
       "      <td>0 days 00:03:00</td>\n",
       "      <td>-5.20</td>\n",
       "      <td>3.68</td>\n",
       "      <td>0.68</td>\n",
       "      <td>6.17</td>\n",
       "      <td>146.17</td>\n",
       "      <td>-5.20</td>\n",
       "      <td>3.68</td>\n",
       "      <td>0.68</td>\n",
       "      <td>6.17</td>\n",
       "      <td>146.17</td>\n",
       "      <td>6.74</td>\n",
       "      <td>1.97</td>\n",
       "      <td>389.11</td>\n",
       "      <td>82548.0</td>\n",
       "      <td>ac</td>\n",
       "    </tr>\n",
       "    <tr>\n",
       "      <th>4</th>\n",
       "      <td>train_a</td>\n",
       "      <td>0 days 00:04:00</td>\n",
       "      <td>-5.12</td>\n",
       "      <td>3.68</td>\n",
       "      <td>0.49</td>\n",
       "      <td>4.62</td>\n",
       "      <td>145.72</td>\n",
       "      <td>-5.12</td>\n",
       "      <td>3.68</td>\n",
       "      <td>0.49</td>\n",
       "      <td>4.62</td>\n",
       "      <td>145.72</td>\n",
       "      <td>6.65</td>\n",
       "      <td>1.77</td>\n",
       "      <td>384.26</td>\n",
       "      <td>94269.0</td>\n",
       "      <td>ac</td>\n",
       "    </tr>\n",
       "  </tbody>\n",
       "</table>\n",
       "</div>"
      ],
      "text/plain": [
       "    period        timedelta  bx_gse  by_gse  bz_gse  theta_gse  phi_gse  \\\n",
       "0  train_a  0 days 00:00:00   -5.55    3.00    1.25      11.09   153.37   \n",
       "1  train_a  0 days 00:01:00   -5.58    3.16    1.17      10.10   151.91   \n",
       "2  train_a  0 days 00:02:00   -5.15    3.66    0.85       7.87   146.04   \n",
       "3  train_a  0 days 00:03:00   -5.20    3.68    0.68       6.17   146.17   \n",
       "4  train_a  0 days 00:04:00   -5.12    3.68    0.49       4.62   145.72   \n",
       "\n",
       "   bx_gsm  by_gsm  bz_gsm  theta_gsm  phi_gsm    bt  density   speed  \\\n",
       "0   -5.55    3.00    1.25      11.09   153.37  6.80     1.53  383.92   \n",
       "1   -5.58    3.16    1.17      10.10   151.91  6.83     1.69  381.79   \n",
       "2   -5.15    3.66    0.85       7.87   146.04  6.77     1.97  389.11   \n",
       "3   -5.20    3.68    0.68       6.17   146.17  6.74     1.97  389.11   \n",
       "4   -5.12    3.68    0.49       4.62   145.72  6.65     1.77  384.26   \n",
       "\n",
       "   temperature source  \n",
       "0     110237.0     ac  \n",
       "1     123825.0     ac  \n",
       "2      82548.0     ac  \n",
       "3      82548.0     ac  \n",
       "4      94269.0     ac  "
      ]
     },
     "execution_count": 3,
     "metadata": {},
     "output_type": "execute_result"
    }
   ],
   "source": [
    "df = pd.read_csv('solar_wind.csv')\n",
    "df.head()"
   ]
  },
  {
   "cell_type": "code",
   "execution_count": 4,
   "metadata": {},
   "outputs": [],
   "source": [
    "df.drop([\n",
    "    'bx_gsm',\n",
    "    'by_gsm',\n",
    "    'bz_gsm',\n",
    "    'density',\n",
    "    'source',\n",
    "    'temperature',\n",
    "    'phi_gsm',\n",
    "    'theta_gse',\n",
    "    'phi_gse',\n",
    "    'theta_gsm',\n",
    "    'bt',\n",
    "    'speed'],errors='ignore', axis=1, inplace=True)"
   ]
  },
  {
   "cell_type": "code",
   "execution_count": 5,
   "metadata": {},
   "outputs": [
    {
     "data": {
      "text/plain": [
       "(8392320, 5)"
      ]
     },
     "execution_count": 5,
     "metadata": {},
     "output_type": "execute_result"
    }
   ],
   "source": [
    "df.shape\n"
   ]
  },
  {
   "cell_type": "code",
   "execution_count": 6,
   "metadata": {},
   "outputs": [
    {
     "data": {
      "text/plain": [
       "(1729440, 5)"
      ]
     },
     "execution_count": 6,
     "metadata": {},
     "output_type": "execute_result"
    }
   ],
   "source": [
    "train_a = df.loc[df['period'] == 'train_a']\n",
    "train_a.shape"
   ]
  },
  {
   "cell_type": "code",
   "execution_count": 7,
   "metadata": {},
   "outputs": [
    {
     "data": {
      "text/html": [
       "<div>\n",
       "<style scoped>\n",
       "    .dataframe tbody tr th:only-of-type {\n",
       "        vertical-align: middle;\n",
       "    }\n",
       "\n",
       "    .dataframe tbody tr th {\n",
       "        vertical-align: top;\n",
       "    }\n",
       "\n",
       "    .dataframe thead th {\n",
       "        text-align: right;\n",
       "    }\n",
       "</style>\n",
       "<table border=\"1\" class=\"dataframe\">\n",
       "  <thead>\n",
       "    <tr style=\"text-align: right;\">\n",
       "      <th></th>\n",
       "      <th>period</th>\n",
       "      <th>timedelta</th>\n",
       "      <th>bx_gse</th>\n",
       "      <th>by_gse</th>\n",
       "      <th>bz_gse</th>\n",
       "    </tr>\n",
       "  </thead>\n",
       "  <tbody>\n",
       "    <tr>\n",
       "      <th>0</th>\n",
       "      <td>train_a</td>\n",
       "      <td>0 days 00:00:00</td>\n",
       "      <td>-5.55</td>\n",
       "      <td>3.00</td>\n",
       "      <td>1.25</td>\n",
       "    </tr>\n",
       "    <tr>\n",
       "      <th>1</th>\n",
       "      <td>train_a</td>\n",
       "      <td>0 days 00:01:00</td>\n",
       "      <td>-5.58</td>\n",
       "      <td>3.16</td>\n",
       "      <td>1.17</td>\n",
       "    </tr>\n",
       "    <tr>\n",
       "      <th>2</th>\n",
       "      <td>train_a</td>\n",
       "      <td>0 days 00:02:00</td>\n",
       "      <td>-5.15</td>\n",
       "      <td>3.66</td>\n",
       "      <td>0.85</td>\n",
       "    </tr>\n",
       "    <tr>\n",
       "      <th>3</th>\n",
       "      <td>train_a</td>\n",
       "      <td>0 days 00:03:00</td>\n",
       "      <td>-5.20</td>\n",
       "      <td>3.68</td>\n",
       "      <td>0.68</td>\n",
       "    </tr>\n",
       "    <tr>\n",
       "      <th>4</th>\n",
       "      <td>train_a</td>\n",
       "      <td>0 days 00:04:00</td>\n",
       "      <td>-5.12</td>\n",
       "      <td>3.68</td>\n",
       "      <td>0.49</td>\n",
       "    </tr>\n",
       "    <tr>\n",
       "      <th>...</th>\n",
       "      <td>...</td>\n",
       "      <td>...</td>\n",
       "      <td>...</td>\n",
       "      <td>...</td>\n",
       "      <td>...</td>\n",
       "    </tr>\n",
       "    <tr>\n",
       "      <th>1729435</th>\n",
       "      <td>train_a</td>\n",
       "      <td>1200 days 23:55:00</td>\n",
       "      <td>-4.07</td>\n",
       "      <td>3.06</td>\n",
       "      <td>-1.54</td>\n",
       "    </tr>\n",
       "    <tr>\n",
       "      <th>1729436</th>\n",
       "      <td>train_a</td>\n",
       "      <td>1200 days 23:56:00</td>\n",
       "      <td>-3.35</td>\n",
       "      <td>3.40</td>\n",
       "      <td>-1.43</td>\n",
       "    </tr>\n",
       "    <tr>\n",
       "      <th>1729437</th>\n",
       "      <td>train_a</td>\n",
       "      <td>1200 days 23:57:00</td>\n",
       "      <td>-3.27</td>\n",
       "      <td>3.42</td>\n",
       "      <td>-1.29</td>\n",
       "    </tr>\n",
       "    <tr>\n",
       "      <th>1729438</th>\n",
       "      <td>train_a</td>\n",
       "      <td>1200 days 23:58:00</td>\n",
       "      <td>-3.26</td>\n",
       "      <td>3.47</td>\n",
       "      <td>-1.07</td>\n",
       "    </tr>\n",
       "    <tr>\n",
       "      <th>1729439</th>\n",
       "      <td>train_a</td>\n",
       "      <td>1200 days 23:59:00</td>\n",
       "      <td>NaN</td>\n",
       "      <td>NaN</td>\n",
       "      <td>NaN</td>\n",
       "    </tr>\n",
       "  </tbody>\n",
       "</table>\n",
       "<p>1729440 rows × 5 columns</p>\n",
       "</div>"
      ],
      "text/plain": [
       "          period           timedelta  bx_gse  by_gse  bz_gse\n",
       "0        train_a     0 days 00:00:00   -5.55    3.00    1.25\n",
       "1        train_a     0 days 00:01:00   -5.58    3.16    1.17\n",
       "2        train_a     0 days 00:02:00   -5.15    3.66    0.85\n",
       "3        train_a     0 days 00:03:00   -5.20    3.68    0.68\n",
       "4        train_a     0 days 00:04:00   -5.12    3.68    0.49\n",
       "...          ...                 ...     ...     ...     ...\n",
       "1729435  train_a  1200 days 23:55:00   -4.07    3.06   -1.54\n",
       "1729436  train_a  1200 days 23:56:00   -3.35    3.40   -1.43\n",
       "1729437  train_a  1200 days 23:57:00   -3.27    3.42   -1.29\n",
       "1729438  train_a  1200 days 23:58:00   -3.26    3.47   -1.07\n",
       "1729439  train_a  1200 days 23:59:00     NaN     NaN     NaN\n",
       "\n",
       "[1729440 rows x 5 columns]"
      ]
     },
     "execution_count": 7,
     "metadata": {},
     "output_type": "execute_result"
    }
   ],
   "source": [
    "train_a"
   ]
  },
  {
   "cell_type": "markdown",
   "metadata": {},
   "source": [
    "### Drop missing values"
   ]
  },
  {
   "cell_type": "code",
   "execution_count": 8,
   "metadata": {},
   "outputs": [],
   "source": [
    "clean_train_a = train_a.dropna()"
   ]
  },
  {
   "cell_type": "code",
   "execution_count": 9,
   "metadata": {},
   "outputs": [
    {
     "data": {
      "text/plain": [
       "np.float64(41.13)"
      ]
     },
     "execution_count": 9,
     "metadata": {},
     "output_type": "execute_result"
    }
   ],
   "source": [
    "train_a = df.loc[df['period'] == 'train_a']\n",
    "train_a['bx_gse'].max()\n"
   ]
  },
  {
   "cell_type": "code",
   "execution_count": 10,
   "metadata": {},
   "outputs": [
    {
     "data": {
      "text/plain": [
       "np.float64(-13.017637037916273)"
      ]
     },
     "execution_count": 10,
     "metadata": {},
     "output_type": "execute_result"
    }
   ],
   "source": [
    "standard_deviation = train_a['bx_gse'].std()\n",
    "lower_threshold = standard_deviation * -3\n",
    "higher_threshold = standard_deviation * 3\n",
    "lower_threshold"
   ]
  },
  {
   "cell_type": "code",
   "execution_count": 11,
   "metadata": {},
   "outputs": [
    {
     "data": {
      "text/plain": [
       "np.float64(13.017637037916273)"
      ]
     },
     "execution_count": 11,
     "metadata": {},
     "output_type": "execute_result"
    }
   ],
   "source": [
    "higher_threshold"
   ]
  },
  {
   "cell_type": "code",
   "execution_count": 12,
   "metadata": {},
   "outputs": [
    {
     "data": {
      "text/plain": [
       "np.float64(-1.7813011265945904)"
      ]
     },
     "execution_count": 12,
     "metadata": {},
     "output_type": "execute_result"
    }
   ],
   "source": [
    "clean_train_a['bx_gse'].mean()"
   ]
  },
  {
   "cell_type": "markdown",
   "metadata": {},
   "source": [
    "Interquartile Range"
   ]
  },
  {
   "cell_type": "code",
   "execution_count": 13,
   "metadata": {},
   "outputs": [],
   "source": [
    "higher_q = clean_train_a['bx_gse'].quantile(0.75)\n",
    "lower_q = clean_train_a['bx_gse'].quantile(0.25)\n",
    "iqr = higher_q - lower_q"
   ]
  },
  {
   "cell_type": "code",
   "execution_count": 14,
   "metadata": {},
   "outputs": [
    {
     "data": {
      "text/plain": [
       "np.float64(11.315000000000001)"
      ]
     },
     "execution_count": 14,
     "metadata": {},
     "output_type": "execute_result"
    }
   ],
   "source": [
    "higher_q + (1.5 * iqr)"
   ]
  },
  {
   "cell_type": "code",
   "execution_count": 15,
   "metadata": {},
   "outputs": [
    {
     "name": "stderr",
     "output_type": "stream",
     "text": [
      "C:\\Users\\chchr\\AppData\\Local\\Temp\\ipykernel_23472\\4280118295.py:1: SettingWithCopyWarning: \n",
      "A value is trying to be set on a copy of a slice from a DataFrame.\n",
      "Try using .loc[row_indexer,col_indexer] = value instead\n",
      "\n",
      "See the caveats in the documentation: https://pandas.pydata.org/pandas-docs/stable/user_guide/indexing.html#returning-a-view-versus-a-copy\n",
      "  clean_train_a['Irregular_Activity'] = (clean_train_a['bx_gse'] > higher_q + (1.5*iqr) ) | (clean_train_a['bx_gse'] < lower_q - (1.5 * iqr) )\n"
     ]
    },
    {
     "data": {
      "text/html": [
       "<div>\n",
       "<style scoped>\n",
       "    .dataframe tbody tr th:only-of-type {\n",
       "        vertical-align: middle;\n",
       "    }\n",
       "\n",
       "    .dataframe tbody tr th {\n",
       "        vertical-align: top;\n",
       "    }\n",
       "\n",
       "    .dataframe thead th {\n",
       "        text-align: right;\n",
       "    }\n",
       "</style>\n",
       "<table border=\"1\" class=\"dataframe\">\n",
       "  <thead>\n",
       "    <tr style=\"text-align: right;\">\n",
       "      <th></th>\n",
       "      <th>bx_gse</th>\n",
       "    </tr>\n",
       "  </thead>\n",
       "  <tbody>\n",
       "    <tr>\n",
       "      <th>7244</th>\n",
       "      <td>11.86</td>\n",
       "    </tr>\n",
       "    <tr>\n",
       "      <th>7245</th>\n",
       "      <td>14.80</td>\n",
       "    </tr>\n",
       "    <tr>\n",
       "      <th>7251</th>\n",
       "      <td>12.92</td>\n",
       "    </tr>\n",
       "    <tr>\n",
       "      <th>7287</th>\n",
       "      <td>11.73</td>\n",
       "    </tr>\n",
       "    <tr>\n",
       "      <th>7293</th>\n",
       "      <td>19.03</td>\n",
       "    </tr>\n",
       "    <tr>\n",
       "      <th>...</th>\n",
       "      <td>...</td>\n",
       "    </tr>\n",
       "    <tr>\n",
       "      <th>1716741</th>\n",
       "      <td>-15.24</td>\n",
       "    </tr>\n",
       "    <tr>\n",
       "      <th>1716742</th>\n",
       "      <td>-15.21</td>\n",
       "    </tr>\n",
       "    <tr>\n",
       "      <th>1716743</th>\n",
       "      <td>-15.19</td>\n",
       "    </tr>\n",
       "    <tr>\n",
       "      <th>1716744</th>\n",
       "      <td>-15.27</td>\n",
       "    </tr>\n",
       "    <tr>\n",
       "      <th>1716745</th>\n",
       "      <td>-14.96</td>\n",
       "    </tr>\n",
       "  </tbody>\n",
       "</table>\n",
       "<p>9707 rows × 1 columns</p>\n",
       "</div>"
      ],
      "text/plain": [
       "         bx_gse\n",
       "7244      11.86\n",
       "7245      14.80\n",
       "7251      12.92\n",
       "7287      11.73\n",
       "7293      19.03\n",
       "...         ...\n",
       "1716741  -15.24\n",
       "1716742  -15.21\n",
       "1716743  -15.19\n",
       "1716744  -15.27\n",
       "1716745  -14.96\n",
       "\n",
       "[9707 rows x 1 columns]"
      ]
     },
     "execution_count": 15,
     "metadata": {},
     "output_type": "execute_result"
    }
   ],
   "source": [
    "clean_train_a['Irregular_Activity'] = (clean_train_a['bx_gse'] > higher_q + (1.5*iqr) ) | (clean_train_a['bx_gse'] < lower_q - (1.5 * iqr) )\n",
    "clean_train_a.loc[clean_train_a['Irregular_Activity'] == True, ['bx_gse']]"
   ]
  },
  {
   "cell_type": "code",
   "execution_count": 16,
   "metadata": {},
   "outputs": [
    {
     "data": {
      "image/png": "[encoded data removed]",
      "text/plain": [
       "<Figure size 1000x600 with 1 Axes>"
      ]
     },
     "metadata": {},
     "output_type": "display_data"
    }
   ],
   "source": [
    "fig, ax = plt.subplots(figsize=(10,6))\n",
    "\n",
    "\n",
    "ax.plot(clean_train_a.index, clean_train_a['bx_gse'], color= 'skyblue', marker = 'o', label='X')\n",
    "ax.plot(clean_train_a.index, clean_train_a['by_gse'], color='salmon', marker='o', label='Y')\n",
    "ax.plot(clean_train_a.index, clean_train_a['bz_gse'], color = 'lightgray', marker='o', label='Z')\n",
    "\n",
    "ax.axhline(y=higher_threshold, color='black', linestyle='dashed')\n",
    "ax.axhline(y=lower_threshold, color='black', linestyle = 'dashed')\n",
    "\n",
    "\n",
    "ax.set_xlabel('Time')\n",
    "ax.set_ylabel('Magentic strength in μT')\n",
    "\n",
    "\n",
    "ax.legend()\n",
    "plt.savefig('plot.png')\n"
   ]
  },
  {
   "cell_type": "markdown",
   "metadata": {},
   "source": [
    "### Feature Engineering"
   ]
  },
  {
   "cell_type": "code",
   "execution_count": 17,
   "metadata": {},
   "outputs": [
    {
     "data": {
      "text/plain": [
       "(1575012, 6)"
      ]
     },
     "execution_count": 17,
     "metadata": {},
     "output_type": "execute_result"
    }
   ],
   "source": [
    "clean_train_a.shape"
   ]
  },
  {
   "cell_type": "code",
   "execution_count": 18,
   "metadata": {},
   "outputs": [
    {
     "name": "stdout",
     "output_type": "stream",
     "text": [
      "13.017637037916273 = higher, -13.017637037916273 = lower\n"
     ]
    }
   ],
   "source": [
    "print(f'{higher_threshold} = higher, {lower_threshold} = lower')"
   ]
  },
  {
   "cell_type": "code",
   "execution_count": 19,
   "metadata": {},
   "outputs": [
    {
     "name": "stderr",
     "output_type": "stream",
     "text": [
      "C:\\Users\\chchr\\AppData\\Local\\Temp\\ipykernel_23472\\874345451.py:1: SettingWithCopyWarning: \n",
      "A value is trying to be set on a copy of a slice from a DataFrame.\n",
      "Try using .loc[row_indexer,col_indexer] = value instead\n",
      "\n",
      "See the caveats in the documentation: https://pandas.pydata.org/pandas-docs/stable/user_guide/indexing.html#returning-a-view-versus-a-copy\n",
      "  clean_train_a['filtered_x'] = clean_train_a['bx_gse'].where((clean_train_a['bx_gse'] < higher_threshold) & (clean_train_a['bx_gse'] > lower_threshold))\n"
     ]
    }
   ],
   "source": [
    "clean_train_a['filtered_x'] = clean_train_a['bx_gse'].where((clean_train_a['bx_gse'] < higher_threshold) & (clean_train_a['bx_gse'] > lower_threshold))"
   ]
  },
  {
   "cell_type": "code",
   "execution_count": 20,
   "metadata": {},
   "outputs": [
    {
     "data": {
      "text/plain": [
       "(1562678, 7)"
      ]
     },
     "execution_count": 20,
     "metadata": {},
     "output_type": "execute_result"
    }
   ],
   "source": [
    "filtered_train_a = clean_train_a.dropna()\n",
    "filtered_train_a.shape"
   ]
  },
  {
   "cell_type": "code",
   "execution_count": 21,
   "metadata": {},
   "outputs": [
    {
     "name": "stderr",
     "output_type": "stream",
     "text": [
      "C:\\Users\\chchr\\AppData\\Local\\Temp\\ipykernel_23472\\2643667122.py:1: SettingWithCopyWarning: \n",
      "A value is trying to be set on a copy of a slice from a DataFrame.\n",
      "Try using .loc[row_indexer,col_indexer] = value instead\n",
      "\n",
      "See the caveats in the documentation: https://pandas.pydata.org/pandas-docs/stable/user_guide/indexing.html#returning-a-view-versus-a-copy\n",
      "  filtered_train_a['Running Mean'] = filtered_train_a['filtered_x'].rolling(window=5).mean()\n"
     ]
    },
    {
     "data": {
      "text/html": [
       "<div>\n",
       "<style scoped>\n",
       "    .dataframe tbody tr th:only-of-type {\n",
       "        vertical-align: middle;\n",
       "    }\n",
       "\n",
       "    .dataframe tbody tr th {\n",
       "        vertical-align: top;\n",
       "    }\n",
       "\n",
       "    .dataframe thead th {\n",
       "        text-align: right;\n",
       "    }\n",
       "</style>\n",
       "<table border=\"1\" class=\"dataframe\">\n",
       "  <thead>\n",
       "    <tr style=\"text-align: right;\">\n",
       "      <th></th>\n",
       "      <th>period</th>\n",
       "      <th>timedelta</th>\n",
       "      <th>bx_gse</th>\n",
       "      <th>by_gse</th>\n",
       "      <th>bz_gse</th>\n",
       "      <th>Irregular_Activity</th>\n",
       "      <th>filtered_x</th>\n",
       "      <th>Running Mean</th>\n",
       "    </tr>\n",
       "  </thead>\n",
       "  <tbody>\n",
       "    <tr>\n",
       "      <th>0</th>\n",
       "      <td>train_a</td>\n",
       "      <td>0 days 00:00:00</td>\n",
       "      <td>-5.55</td>\n",
       "      <td>3.00</td>\n",
       "      <td>1.25</td>\n",
       "      <td>False</td>\n",
       "      <td>-5.55</td>\n",
       "      <td>NaN</td>\n",
       "    </tr>\n",
       "    <tr>\n",
       "      <th>1</th>\n",
       "      <td>train_a</td>\n",
       "      <td>0 days 00:01:00</td>\n",
       "      <td>-5.58</td>\n",
       "      <td>3.16</td>\n",
       "      <td>1.17</td>\n",
       "      <td>False</td>\n",
       "      <td>-5.58</td>\n",
       "      <td>NaN</td>\n",
       "    </tr>\n",
       "    <tr>\n",
       "      <th>2</th>\n",
       "      <td>train_a</td>\n",
       "      <td>0 days 00:02:00</td>\n",
       "      <td>-5.15</td>\n",
       "      <td>3.66</td>\n",
       "      <td>0.85</td>\n",
       "      <td>False</td>\n",
       "      <td>-5.15</td>\n",
       "      <td>NaN</td>\n",
       "    </tr>\n",
       "    <tr>\n",
       "      <th>3</th>\n",
       "      <td>train_a</td>\n",
       "      <td>0 days 00:03:00</td>\n",
       "      <td>-5.20</td>\n",
       "      <td>3.68</td>\n",
       "      <td>0.68</td>\n",
       "      <td>False</td>\n",
       "      <td>-5.20</td>\n",
       "      <td>NaN</td>\n",
       "    </tr>\n",
       "    <tr>\n",
       "      <th>4</th>\n",
       "      <td>train_a</td>\n",
       "      <td>0 days 00:04:00</td>\n",
       "      <td>-5.12</td>\n",
       "      <td>3.68</td>\n",
       "      <td>0.49</td>\n",
       "      <td>False</td>\n",
       "      <td>-5.12</td>\n",
       "      <td>-5.32</td>\n",
       "    </tr>\n",
       "  </tbody>\n",
       "</table>\n",
       "</div>"
      ],
      "text/plain": [
       "    period        timedelta  bx_gse  by_gse  bz_gse  Irregular_Activity  \\\n",
       "0  train_a  0 days 00:00:00   -5.55    3.00    1.25               False   \n",
       "1  train_a  0 days 00:01:00   -5.58    3.16    1.17               False   \n",
       "2  train_a  0 days 00:02:00   -5.15    3.66    0.85               False   \n",
       "3  train_a  0 days 00:03:00   -5.20    3.68    0.68               False   \n",
       "4  train_a  0 days 00:04:00   -5.12    3.68    0.49               False   \n",
       "\n",
       "   filtered_x  Running Mean  \n",
       "0       -5.55           NaN  \n",
       "1       -5.58           NaN  \n",
       "2       -5.15           NaN  \n",
       "3       -5.20           NaN  \n",
       "4       -5.12         -5.32  "
      ]
     },
     "execution_count": 21,
     "metadata": {},
     "output_type": "execute_result"
    }
   ],
   "source": [
    "filtered_train_a['Running Mean'] = filtered_train_a['filtered_x'].rolling(window=5).mean()\n",
    "filtered_train_a.head()"
   ]
  },
  {
   "cell_type": "code",
   "execution_count": 22,
   "metadata": {},
   "outputs": [
    {
     "data": {
      "text/html": [
       "<div>\n",
       "<style scoped>\n",
       "    .dataframe tbody tr th:only-of-type {\n",
       "        vertical-align: middle;\n",
       "    }\n",
       "\n",
       "    .dataframe tbody tr th {\n",
       "        vertical-align: top;\n",
       "    }\n",
       "\n",
       "    .dataframe thead th {\n",
       "        text-align: right;\n",
       "    }\n",
       "</style>\n",
       "<table border=\"1\" class=\"dataframe\">\n",
       "  <thead>\n",
       "    <tr style=\"text-align: right;\">\n",
       "      <th></th>\n",
       "      <th>period</th>\n",
       "      <th>timedelta</th>\n",
       "      <th>bx_gse</th>\n",
       "      <th>by_gse</th>\n",
       "      <th>bz_gse</th>\n",
       "      <th>Irregular_Activity</th>\n",
       "      <th>filtered_x</th>\n",
       "      <th>Running Mean</th>\n",
       "    </tr>\n",
       "  </thead>\n",
       "  <tbody>\n",
       "    <tr>\n",
       "      <th>7244</th>\n",
       "      <td>train_a</td>\n",
       "      <td>5 days 00:44:00</td>\n",
       "      <td>11.86</td>\n",
       "      <td>-10.58</td>\n",
       "      <td>-2.53</td>\n",
       "      <td>True</td>\n",
       "      <td>11.86</td>\n",
       "      <td>1.042</td>\n",
       "    </tr>\n",
       "    <tr>\n",
       "      <th>7251</th>\n",
       "      <td>train_a</td>\n",
       "      <td>5 days 00:51:00</td>\n",
       "      <td>12.92</td>\n",
       "      <td>6.00</td>\n",
       "      <td>-0.21</td>\n",
       "      <td>True</td>\n",
       "      <td>12.92</td>\n",
       "      <td>2.390</td>\n",
       "    </tr>\n",
       "    <tr>\n",
       "      <th>7287</th>\n",
       "      <td>train_a</td>\n",
       "      <td>5 days 01:27:00</td>\n",
       "      <td>11.73</td>\n",
       "      <td>-4.60</td>\n",
       "      <td>0.22</td>\n",
       "      <td>True</td>\n",
       "      <td>11.73</td>\n",
       "      <td>1.134</td>\n",
       "    </tr>\n",
       "    <tr>\n",
       "      <th>7421</th>\n",
       "      <td>train_a</td>\n",
       "      <td>5 days 03:41:00</td>\n",
       "      <td>12.55</td>\n",
       "      <td>-3.42</td>\n",
       "      <td>-0.79</td>\n",
       "      <td>True</td>\n",
       "      <td>12.55</td>\n",
       "      <td>4.688</td>\n",
       "    </tr>\n",
       "    <tr>\n",
       "      <th>29979</th>\n",
       "      <td>train_a</td>\n",
       "      <td>20 days 19:39:00</td>\n",
       "      <td>12.94</td>\n",
       "      <td>-0.09</td>\n",
       "      <td>-2.48</td>\n",
       "      <td>True</td>\n",
       "      <td>12.94</td>\n",
       "      <td>4.050</td>\n",
       "    </tr>\n",
       "    <tr>\n",
       "      <th>...</th>\n",
       "      <td>...</td>\n",
       "      <td>...</td>\n",
       "      <td>...</td>\n",
       "      <td>...</td>\n",
       "      <td>...</td>\n",
       "      <td>...</td>\n",
       "      <td>...</td>\n",
       "      <td>...</td>\n",
       "    </tr>\n",
       "    <tr>\n",
       "      <th>1657090</th>\n",
       "      <td>train_a</td>\n",
       "      <td>1150 days 18:10:00</td>\n",
       "      <td>12.42</td>\n",
       "      <td>15.81</td>\n",
       "      <td>14.17</td>\n",
       "      <td>True</td>\n",
       "      <td>12.42</td>\n",
       "      <td>-1.250</td>\n",
       "    </tr>\n",
       "    <tr>\n",
       "      <th>1657099</th>\n",
       "      <td>train_a</td>\n",
       "      <td>1150 days 18:19:00</td>\n",
       "      <td>11.44</td>\n",
       "      <td>8.79</td>\n",
       "      <td>19.75</td>\n",
       "      <td>True</td>\n",
       "      <td>11.44</td>\n",
       "      <td>6.230</td>\n",
       "    </tr>\n",
       "    <tr>\n",
       "      <th>1701217</th>\n",
       "      <td>train_a</td>\n",
       "      <td>1181 days 09:37:00</td>\n",
       "      <td>11.40</td>\n",
       "      <td>-3.66</td>\n",
       "      <td>-11.66</td>\n",
       "      <td>True</td>\n",
       "      <td>11.40</td>\n",
       "      <td>11.036</td>\n",
       "    </tr>\n",
       "    <tr>\n",
       "      <th>1701218</th>\n",
       "      <td>train_a</td>\n",
       "      <td>1181 days 09:38:00</td>\n",
       "      <td>11.36</td>\n",
       "      <td>-2.91</td>\n",
       "      <td>-12.03</td>\n",
       "      <td>True</td>\n",
       "      <td>11.36</td>\n",
       "      <td>11.052</td>\n",
       "    </tr>\n",
       "    <tr>\n",
       "      <th>1701220</th>\n",
       "      <td>train_a</td>\n",
       "      <td>1181 days 09:40:00</td>\n",
       "      <td>11.39</td>\n",
       "      <td>-3.56</td>\n",
       "      <td>-11.70</td>\n",
       "      <td>True</td>\n",
       "      <td>11.39</td>\n",
       "      <td>11.312</td>\n",
       "    </tr>\n",
       "  </tbody>\n",
       "</table>\n",
       "<p>1478 rows × 8 columns</p>\n",
       "</div>"
      ],
      "text/plain": [
       "          period           timedelta  bx_gse  by_gse  bz_gse  \\\n",
       "7244     train_a     5 days 00:44:00   11.86  -10.58   -2.53   \n",
       "7251     train_a     5 days 00:51:00   12.92    6.00   -0.21   \n",
       "7287     train_a     5 days 01:27:00   11.73   -4.60    0.22   \n",
       "7421     train_a     5 days 03:41:00   12.55   -3.42   -0.79   \n",
       "29979    train_a    20 days 19:39:00   12.94   -0.09   -2.48   \n",
       "...          ...                 ...     ...     ...     ...   \n",
       "1657090  train_a  1150 days 18:10:00   12.42   15.81   14.17   \n",
       "1657099  train_a  1150 days 18:19:00   11.44    8.79   19.75   \n",
       "1701217  train_a  1181 days 09:37:00   11.40   -3.66  -11.66   \n",
       "1701218  train_a  1181 days 09:38:00   11.36   -2.91  -12.03   \n",
       "1701220  train_a  1181 days 09:40:00   11.39   -3.56  -11.70   \n",
       "\n",
       "         Irregular_Activity  filtered_x  Running Mean  \n",
       "7244                   True       11.86         1.042  \n",
       "7251                   True       12.92         2.390  \n",
       "7287                   True       11.73         1.134  \n",
       "7421                   True       12.55         4.688  \n",
       "29979                  True       12.94         4.050  \n",
       "...                     ...         ...           ...  \n",
       "1657090                True       12.42        -1.250  \n",
       "1657099                True       11.44         6.230  \n",
       "1701217                True       11.40        11.036  \n",
       "1701218                True       11.36        11.052  \n",
       "1701220                True       11.39        11.312  \n",
       "\n",
       "[1478 rows x 8 columns]"
      ]
     },
     "execution_count": 22,
     "metadata": {},
     "output_type": "execute_result"
    }
   ],
   "source": [
    "filtered_train_a.loc[filtered_train_a['Irregular_Activity'] == True]"
   ]
  },
  {
   "cell_type": "code",
   "execution_count": 23,
   "metadata": {},
   "outputs": [
    {
     "name": "stderr",
     "output_type": "stream",
     "text": [
      "C:\\Users\\chchr\\AppData\\Local\\Temp\\ipykernel_23472\\2251418496.py:1: SettingWithCopyWarning: \n",
      "A value is trying to be set on a copy of a slice from a DataFrame.\n",
      "Try using .loc[row_indexer,col_indexer] = value instead\n",
      "\n",
      "See the caveats in the documentation: https://pandas.pydata.org/pandas-docs/stable/user_guide/indexing.html#returning-a-view-versus-a-copy\n",
      "  filtered_train_a['Magnitude'] = ((filtered_train_a['bx_gse']**2) + (filtered_train_a['by_gse'] ** 2) + (filtered_train_a['bz_gse'] ** 2)) ** 0.5\n"
     ]
    },
    {
     "data": {
      "text/html": [
       "<div>\n",
       "<style scoped>\n",
       "    .dataframe tbody tr th:only-of-type {\n",
       "        vertical-align: middle;\n",
       "    }\n",
       "\n",
       "    .dataframe tbody tr th {\n",
       "        vertical-align: top;\n",
       "    }\n",
       "\n",
       "    .dataframe thead th {\n",
       "        text-align: right;\n",
       "    }\n",
       "</style>\n",
       "<table border=\"1\" class=\"dataframe\">\n",
       "  <thead>\n",
       "    <tr style=\"text-align: right;\">\n",
       "      <th></th>\n",
       "      <th>period</th>\n",
       "      <th>timedelta</th>\n",
       "      <th>bx_gse</th>\n",
       "      <th>by_gse</th>\n",
       "      <th>bz_gse</th>\n",
       "      <th>Irregular_Activity</th>\n",
       "      <th>filtered_x</th>\n",
       "      <th>Running Mean</th>\n",
       "      <th>Magnitude</th>\n",
       "    </tr>\n",
       "  </thead>\n",
       "  <tbody>\n",
       "    <tr>\n",
       "      <th>0</th>\n",
       "      <td>train_a</td>\n",
       "      <td>0 days 00:00:00</td>\n",
       "      <td>-5.55</td>\n",
       "      <td>3.00</td>\n",
       "      <td>1.25</td>\n",
       "      <td>False</td>\n",
       "      <td>-5.55</td>\n",
       "      <td>NaN</td>\n",
       "      <td>6.431563</td>\n",
       "    </tr>\n",
       "    <tr>\n",
       "      <th>1</th>\n",
       "      <td>train_a</td>\n",
       "      <td>0 days 00:01:00</td>\n",
       "      <td>-5.58</td>\n",
       "      <td>3.16</td>\n",
       "      <td>1.17</td>\n",
       "      <td>False</td>\n",
       "      <td>-5.58</td>\n",
       "      <td>NaN</td>\n",
       "      <td>6.518504</td>\n",
       "    </tr>\n",
       "    <tr>\n",
       "      <th>2</th>\n",
       "      <td>train_a</td>\n",
       "      <td>0 days 00:02:00</td>\n",
       "      <td>-5.15</td>\n",
       "      <td>3.66</td>\n",
       "      <td>0.85</td>\n",
       "      <td>False</td>\n",
       "      <td>-5.15</td>\n",
       "      <td>NaN</td>\n",
       "      <td>6.374998</td>\n",
       "    </tr>\n",
       "    <tr>\n",
       "      <th>3</th>\n",
       "      <td>train_a</td>\n",
       "      <td>0 days 00:03:00</td>\n",
       "      <td>-5.20</td>\n",
       "      <td>3.68</td>\n",
       "      <td>0.68</td>\n",
       "      <td>False</td>\n",
       "      <td>-5.20</td>\n",
       "      <td>NaN</td>\n",
       "      <td>6.406622</td>\n",
       "    </tr>\n",
       "    <tr>\n",
       "      <th>4</th>\n",
       "      <td>train_a</td>\n",
       "      <td>0 days 00:04:00</td>\n",
       "      <td>-5.12</td>\n",
       "      <td>3.68</td>\n",
       "      <td>0.49</td>\n",
       "      <td>False</td>\n",
       "      <td>-5.12</td>\n",
       "      <td>-5.32</td>\n",
       "      <td>6.324310</td>\n",
       "    </tr>\n",
       "  </tbody>\n",
       "</table>\n",
       "</div>"
      ],
      "text/plain": [
       "    period        timedelta  bx_gse  by_gse  bz_gse  Irregular_Activity  \\\n",
       "0  train_a  0 days 00:00:00   -5.55    3.00    1.25               False   \n",
       "1  train_a  0 days 00:01:00   -5.58    3.16    1.17               False   \n",
       "2  train_a  0 days 00:02:00   -5.15    3.66    0.85               False   \n",
       "3  train_a  0 days 00:03:00   -5.20    3.68    0.68               False   \n",
       "4  train_a  0 days 00:04:00   -5.12    3.68    0.49               False   \n",
       "\n",
       "   filtered_x  Running Mean  Magnitude  \n",
       "0       -5.55           NaN   6.431563  \n",
       "1       -5.58           NaN   6.518504  \n",
       "2       -5.15           NaN   6.374998  \n",
       "3       -5.20           NaN   6.406622  \n",
       "4       -5.12         -5.32   6.324310  "
      ]
     },
     "execution_count": 23,
     "metadata": {},
     "output_type": "execute_result"
    }
   ],
   "source": [
    "filtered_train_a['Magnitude'] = ((filtered_train_a['bx_gse']**2) + (filtered_train_a['by_gse'] ** 2) + (filtered_train_a['bz_gse'] ** 2)) ** 0.5\n",
    "filtered_train_a.head()"
   ]
  },
  {
   "cell_type": "code",
   "execution_count": 27,
   "metadata": {},
   "outputs": [
    {
     "name": "stderr",
     "output_type": "stream",
     "text": [
      "C:\\Users\\chchr\\AppData\\Local\\Temp\\ipykernel_23472\\449195975.py:1: SettingWithCopyWarning: \n",
      "A value is trying to be set on a copy of a slice from a DataFrame.\n",
      "Try using .loc[row_indexer,col_indexer] = value instead\n",
      "\n",
      "See the caveats in the documentation: https://pandas.pydata.org/pandas-docs/stable/user_guide/indexing.html#returning-a-view-versus-a-copy\n",
      "  filtered_train_a['Runnning Deviation'] = filtered_train_a['filtered_x'].rolling(window=5).std()\n"
     ]
    },
    {
     "data": {
      "text/html": [
       "<div>\n",
       "<style scoped>\n",
       "    .dataframe tbody tr th:only-of-type {\n",
       "        vertical-align: middle;\n",
       "    }\n",
       "\n",
       "    .dataframe tbody tr th {\n",
       "        vertical-align: top;\n",
       "    }\n",
       "\n",
       "    .dataframe thead th {\n",
       "        text-align: right;\n",
       "    }\n",
       "</style>\n",
       "<table border=\"1\" class=\"dataframe\">\n",
       "  <thead>\n",
       "    <tr style=\"text-align: right;\">\n",
       "      <th></th>\n",
       "      <th>period</th>\n",
       "      <th>timedelta</th>\n",
       "      <th>bx_gse</th>\n",
       "      <th>by_gse</th>\n",
       "      <th>bz_gse</th>\n",
       "      <th>Irregular_Activity</th>\n",
       "      <th>filtered_x</th>\n",
       "      <th>Running Mean</th>\n",
       "      <th>Magnitude</th>\n",
       "      <th>Runnning Deviation</th>\n",
       "    </tr>\n",
       "  </thead>\n",
       "  <tbody>\n",
       "    <tr>\n",
       "      <th>0</th>\n",
       "      <td>train_a</td>\n",
       "      <td>0 days 00:00:00</td>\n",
       "      <td>-5.55</td>\n",
       "      <td>3.00</td>\n",
       "      <td>1.25</td>\n",
       "      <td>False</td>\n",
       "      <td>-5.55</td>\n",
       "      <td>NaN</td>\n",
       "      <td>6.431563</td>\n",
       "      <td>NaN</td>\n",
       "    </tr>\n",
       "    <tr>\n",
       "      <th>1</th>\n",
       "      <td>train_a</td>\n",
       "      <td>0 days 00:01:00</td>\n",
       "      <td>-5.58</td>\n",
       "      <td>3.16</td>\n",
       "      <td>1.17</td>\n",
       "      <td>False</td>\n",
       "      <td>-5.58</td>\n",
       "      <td>NaN</td>\n",
       "      <td>6.518504</td>\n",
       "      <td>NaN</td>\n",
       "    </tr>\n",
       "    <tr>\n",
       "      <th>2</th>\n",
       "      <td>train_a</td>\n",
       "      <td>0 days 00:02:00</td>\n",
       "      <td>-5.15</td>\n",
       "      <td>3.66</td>\n",
       "      <td>0.85</td>\n",
       "      <td>False</td>\n",
       "      <td>-5.15</td>\n",
       "      <td>NaN</td>\n",
       "      <td>6.374998</td>\n",
       "      <td>NaN</td>\n",
       "    </tr>\n",
       "    <tr>\n",
       "      <th>3</th>\n",
       "      <td>train_a</td>\n",
       "      <td>0 days 00:03:00</td>\n",
       "      <td>-5.20</td>\n",
       "      <td>3.68</td>\n",
       "      <td>0.68</td>\n",
       "      <td>False</td>\n",
       "      <td>-5.20</td>\n",
       "      <td>NaN</td>\n",
       "      <td>6.406622</td>\n",
       "      <td>NaN</td>\n",
       "    </tr>\n",
       "    <tr>\n",
       "      <th>4</th>\n",
       "      <td>train_a</td>\n",
       "      <td>0 days 00:04:00</td>\n",
       "      <td>-5.12</td>\n",
       "      <td>3.68</td>\n",
       "      <td>0.49</td>\n",
       "      <td>False</td>\n",
       "      <td>-5.12</td>\n",
       "      <td>-5.32</td>\n",
       "      <td>6.324310</td>\n",
       "      <td>0.225721</td>\n",
       "    </tr>\n",
       "  </tbody>\n",
       "</table>\n",
       "</div>"
      ],
      "text/plain": [
       "    period        timedelta  bx_gse  by_gse  bz_gse  Irregular_Activity  \\\n",
       "0  train_a  0 days 00:00:00   -5.55    3.00    1.25               False   \n",
       "1  train_a  0 days 00:01:00   -5.58    3.16    1.17               False   \n",
       "2  train_a  0 days 00:02:00   -5.15    3.66    0.85               False   \n",
       "3  train_a  0 days 00:03:00   -5.20    3.68    0.68               False   \n",
       "4  train_a  0 days 00:04:00   -5.12    3.68    0.49               False   \n",
       "\n",
       "   filtered_x  Running Mean  Magnitude  Runnning Deviation  \n",
       "0       -5.55           NaN   6.431563                 NaN  \n",
       "1       -5.58           NaN   6.518504                 NaN  \n",
       "2       -5.15           NaN   6.374998                 NaN  \n",
       "3       -5.20           NaN   6.406622                 NaN  \n",
       "4       -5.12         -5.32   6.324310            0.225721  "
      ]
     },
     "execution_count": 27,
     "metadata": {},
     "output_type": "execute_result"
    }
   ],
   "source": [
    "filtered_train_a['Runnning Deviation'] = filtered_train_a['filtered_x'].rolling(window=5).std()\n",
    "filtered_train_a.head()"
   ]
  },
  {
   "cell_type": "code",
   "execution_count": 26,
   "metadata": {},
   "outputs": [
    {
     "ename": "ValueError",
     "evalue": "The truth value of a Series is ambiguous. Use a.empty, a.bool(), a.item(), a.any() or a.all().",
     "output_type": "error",
     "traceback": [
      "\u001b[1;31m---------------------------------------------------------------------------\u001b[0m",
      "\u001b[1;31mValueError\u001b[0m                                Traceback (most recent call last)",
      "\u001b[1;32m~\\AppData\\Local\\Temp\\ipykernel_23472\\1415994704.py\u001b[0m in \u001b[0;36m?\u001b[1;34m()\u001b[0m\n\u001b[0;32m      4\u001b[0m \u001b[1;33m\u001b[0m\u001b[0m\n\u001b[0;32m      5\u001b[0m \u001b[1;33m\u001b[0m\u001b[0m\n\u001b[0;32m      6\u001b[0m \u001b[0max\u001b[0m\u001b[1;33m.\u001b[0m\u001b[0mplot\u001b[0m\u001b[1;33m(\u001b[0m\u001b[0mfiltered_train_a\u001b[0m\u001b[1;33m.\u001b[0m\u001b[0mindex\u001b[0m\u001b[1;33m,\u001b[0m \u001b[0mfiltered_train_a\u001b[0m\u001b[1;33m[\u001b[0m\u001b[1;34m'Magnitude'\u001b[0m\u001b[1;33m]\u001b[0m\u001b[1;33m,\u001b[0m \u001b[0mcolor\u001b[0m\u001b[1;33m=\u001b[0m \u001b[1;34m'skyblue'\u001b[0m\u001b[1;33m,\u001b[0m \u001b[0mmarker\u001b[0m \u001b[1;33m=\u001b[0m \u001b[1;34m'o'\u001b[0m\u001b[1;33m,\u001b[0m \u001b[0mlabel\u001b[0m\u001b[1;33m=\u001b[0m\u001b[1;34m'X'\u001b[0m\u001b[1;33m)\u001b[0m\u001b[1;33m\u001b[0m\u001b[1;33m\u001b[0m\u001b[0m\n\u001b[0;32m      7\u001b[0m \u001b[1;33m\u001b[0m\u001b[0m\n\u001b[1;32m----> 8\u001b[1;33m \u001b[0max\u001b[0m\u001b[1;33m.\u001b[0m\u001b[0maxhline\u001b[0m\u001b[1;33m(\u001b[0m\u001b[0my\u001b[0m\u001b[1;33m=\u001b[0m\u001b[0mmag_high_thresh\u001b[0m\u001b[1;33m,\u001b[0m \u001b[0mcolor\u001b[0m\u001b[1;33m=\u001b[0m\u001b[1;34m'black'\u001b[0m\u001b[1;33m,\u001b[0m \u001b[0mlinestyle\u001b[0m\u001b[1;33m=\u001b[0m\u001b[1;34m'dashed'\u001b[0m\u001b[1;33m)\u001b[0m\u001b[1;33m\u001b[0m\u001b[1;33m\u001b[0m\u001b[0m\n\u001b[0m\u001b[0;32m      9\u001b[0m \u001b[1;33m\u001b[0m\u001b[0m\n\u001b[0;32m     10\u001b[0m \u001b[1;33m\u001b[0m\u001b[0m\n\u001b[0;32m     11\u001b[0m \u001b[1;33m\u001b[0m\u001b[0m\n",
      "\u001b[1;32mc:\\Users\\chchr\\Python Projects\\AstroPi\\.venv\\Lib\\site-packages\\matplotlib\\axes\\_axes.py\u001b[0m in \u001b[0;36m?\u001b[1;34m(self, y, xmin, xmax, **kwargs)\u001b[0m\n\u001b[0;32m    801\u001b[0m         \u001b[0mymin\u001b[0m\u001b[1;33m,\u001b[0m \u001b[0mymax\u001b[0m \u001b[1;33m=\u001b[0m \u001b[0mself\u001b[0m\u001b[1;33m.\u001b[0m\u001b[0mget_ybound\u001b[0m\u001b[1;33m(\u001b[0m\u001b[1;33m)\u001b[0m\u001b[1;33m\u001b[0m\u001b[1;33m\u001b[0m\u001b[0m\n\u001b[0;32m    802\u001b[0m \u001b[1;33m\u001b[0m\u001b[0m\n\u001b[0;32m    803\u001b[0m         \u001b[1;31m# Strip away the units for comparison with non-unitized bounds.\u001b[0m\u001b[1;33m\u001b[0m\u001b[1;33m\u001b[0m\u001b[0m\n\u001b[0;32m    804\u001b[0m         \u001b[0myy\u001b[0m\u001b[1;33m,\u001b[0m \u001b[1;33m=\u001b[0m \u001b[0mself\u001b[0m\u001b[1;33m.\u001b[0m\u001b[0m_process_unit_info\u001b[0m\u001b[1;33m(\u001b[0m\u001b[1;33m[\u001b[0m\u001b[1;33m(\u001b[0m\u001b[1;34m\"y\"\u001b[0m\u001b[1;33m,\u001b[0m \u001b[0my\u001b[0m\u001b[1;33m)\u001b[0m\u001b[1;33m]\u001b[0m\u001b[1;33m,\u001b[0m \u001b[0mkwargs\u001b[0m\u001b[1;33m)\u001b[0m\u001b[1;33m\u001b[0m\u001b[1;33m\u001b[0m\u001b[0m\n\u001b[1;32m--> 805\u001b[1;33m         \u001b[0mscaley\u001b[0m \u001b[1;33m=\u001b[0m \u001b[1;33m(\u001b[0m\u001b[0myy\u001b[0m \u001b[1;33m<\u001b[0m \u001b[0mymin\u001b[0m\u001b[1;33m)\u001b[0m \u001b[1;32mor\u001b[0m \u001b[1;33m(\u001b[0m\u001b[0myy\u001b[0m \u001b[1;33m>\u001b[0m \u001b[0mymax\u001b[0m\u001b[1;33m)\u001b[0m\u001b[1;33m\u001b[0m\u001b[1;33m\u001b[0m\u001b[0m\n\u001b[0m\u001b[0;32m    806\u001b[0m \u001b[1;33m\u001b[0m\u001b[0m\n\u001b[0;32m    807\u001b[0m         \u001b[0mtrans\u001b[0m \u001b[1;33m=\u001b[0m \u001b[0mself\u001b[0m\u001b[1;33m.\u001b[0m\u001b[0mget_yaxis_transform\u001b[0m\u001b[1;33m(\u001b[0m\u001b[0mwhich\u001b[0m\u001b[1;33m=\u001b[0m\u001b[1;34m'grid'\u001b[0m\u001b[1;33m)\u001b[0m\u001b[1;33m\u001b[0m\u001b[1;33m\u001b[0m\u001b[0m\n\u001b[0;32m    808\u001b[0m         \u001b[0ml\u001b[0m \u001b[1;33m=\u001b[0m \u001b[0mmlines\u001b[0m\u001b[1;33m.\u001b[0m\u001b[0mLine2D\u001b[0m\u001b[1;33m(\u001b[0m\u001b[1;33m[\u001b[0m\u001b[0mxmin\u001b[0m\u001b[1;33m,\u001b[0m \u001b[0mxmax\u001b[0m\u001b[1;33m]\u001b[0m\u001b[1;33m,\u001b[0m \u001b[1;33m[\u001b[0m\u001b[0my\u001b[0m\u001b[1;33m,\u001b[0m \u001b[0my\u001b[0m\u001b[1;33m]\u001b[0m\u001b[1;33m,\u001b[0m \u001b[0mtransform\u001b[0m\u001b[1;33m=\u001b[0m\u001b[0mtrans\u001b[0m\u001b[1;33m,\u001b[0m \u001b[1;33m**\u001b[0m\u001b[0mkwargs\u001b[0m\u001b[1;33m)\u001b[0m\u001b[1;33m\u001b[0m\u001b[1;33m\u001b[0m\u001b[0m\n",
      "\u001b[1;32mc:\\Users\\chchr\\Python Projects\\AstroPi\\.venv\\Lib\\site-packages\\pandas\\core\\generic.py\u001b[0m in \u001b[0;36m?\u001b[1;34m(self)\u001b[0m\n\u001b[0;32m   1575\u001b[0m     \u001b[1;33m@\u001b[0m\u001b[0mfinal\u001b[0m\u001b[1;33m\u001b[0m\u001b[1;33m\u001b[0m\u001b[0m\n\u001b[0;32m   1576\u001b[0m     \u001b[1;32mdef\u001b[0m \u001b[0m__nonzero__\u001b[0m\u001b[1;33m(\u001b[0m\u001b[0mself\u001b[0m\u001b[1;33m)\u001b[0m \u001b[1;33m->\u001b[0m \u001b[0mNoReturn\u001b[0m\u001b[1;33m:\u001b[0m\u001b[1;33m\u001b[0m\u001b[1;33m\u001b[0m\u001b[0m\n\u001b[1;32m-> 1577\u001b[1;33m         raise ValueError(\n\u001b[0m\u001b[0;32m   1578\u001b[0m             \u001b[1;33mf\"\u001b[0m\u001b[1;33mThe truth value of a \u001b[0m\u001b[1;33m{\u001b[0m\u001b[0mtype\u001b[0m\u001b[1;33m(\u001b[0m\u001b[0mself\u001b[0m\u001b[1;33m)\u001b[0m\u001b[1;33m.\u001b[0m\u001b[0m__name__\u001b[0m\u001b[1;33m}\u001b[0m\u001b[1;33m is ambiguous. \u001b[0m\u001b[1;33m\"\u001b[0m\u001b[1;33m\u001b[0m\u001b[1;33m\u001b[0m\u001b[0m\n\u001b[0;32m   1579\u001b[0m             \u001b[1;34m\"Use a.empty, a.bool(), a.item(), a.any() or a.all().\"\u001b[0m\u001b[1;33m\u001b[0m\u001b[1;33m\u001b[0m\u001b[0m\n\u001b[0;32m   1580\u001b[0m         \u001b[1;33m)\u001b[0m\u001b[1;33m\u001b[0m\u001b[1;33m\u001b[0m\u001b[0m\n",
      "\u001b[1;31mValueError\u001b[0m: The truth value of a Series is ambiguous. Use a.empty, a.bool(), a.item(), a.any() or a.all()."
     ]
    },
    {
     "data": {
      "image/png": "[encoded data removed]",
      "text/plain": [
       "<Figure size 1000x600 with 1 Axes>"
      ]
     },
     "metadata": {},
     "output_type": "display_data"
    }
   ],
   "source": [
    "fig, ax = plt.subplots(figsize=(10,6))\n",
    "\n",
    "mag_high_thresh = 3 * filtered_train_a['Magnitude'] \n",
    "\n",
    "\n",
    "ax.plot(filtered_train_a.index, filtered_train_a['Magnitude'], color= 'skyblue', marker = 'o', label='X')\n",
    "\n",
    "ax.axhline(y=mag_high_thresh, color='black', linestyle='dashed')\n",
    "\n",
    "\n",
    "\n",
    "ax.set_xlabel('Time')\n",
    "ax.set_ylabel('Magentic strength in μT')\n",
    "\n",
    "\n",
    "ax.legend()\n",
    "plt.savefig('plot.png')"
   ]
  },
  {
   "cell_type": "markdown",
   "metadata": {},
   "source": [
    "# Main dataset - Logistic Regression Training"
   ]
  },
  {
   "cell_type": "code",
   "execution_count": 36,
   "metadata": {},
   "outputs": [],
   "source": [
    "from sklearn.linear_model import LogisticRegression\n",
    "from sklearn.preprocessing import StandardScaler"
   ]
  },
  {
   "cell_type": "code",
   "execution_count": 37,
   "metadata": {},
   "outputs": [
    {
     "data": {
      "text/html": [
       "<div>\n",
       "<style scoped>\n",
       "    .dataframe tbody tr th:only-of-type {\n",
       "        vertical-align: middle;\n",
       "    }\n",
       "\n",
       "    .dataframe tbody tr th {\n",
       "        vertical-align: top;\n",
       "    }\n",
       "\n",
       "    .dataframe thead th {\n",
       "        text-align: right;\n",
       "    }\n",
       "</style>\n",
       "<table border=\"1\" class=\"dataframe\">\n",
       "  <thead>\n",
       "    <tr style=\"text-align: right;\">\n",
       "      <th></th>\n",
       "      <th>period</th>\n",
       "      <th>timedelta</th>\n",
       "      <th>bx_gse</th>\n",
       "      <th>by_gse</th>\n",
       "      <th>bz_gse</th>\n",
       "      <th>Irregular_Activity</th>\n",
       "      <th>filtered_x</th>\n",
       "      <th>Running Mean</th>\n",
       "      <th>Magnitude</th>\n",
       "      <th>Runnning Deviation</th>\n",
       "    </tr>\n",
       "  </thead>\n",
       "  <tbody>\n",
       "    <tr>\n",
       "      <th>0</th>\n",
       "      <td>train_a</td>\n",
       "      <td>0 days 00:00:00</td>\n",
       "      <td>-5.55</td>\n",
       "      <td>3.00</td>\n",
       "      <td>1.25</td>\n",
       "      <td>False</td>\n",
       "      <td>-5.55</td>\n",
       "      <td>NaN</td>\n",
       "      <td>6.431563</td>\n",
       "      <td>NaN</td>\n",
       "    </tr>\n",
       "    <tr>\n",
       "      <th>1</th>\n",
       "      <td>train_a</td>\n",
       "      <td>0 days 00:01:00</td>\n",
       "      <td>-5.58</td>\n",
       "      <td>3.16</td>\n",
       "      <td>1.17</td>\n",
       "      <td>False</td>\n",
       "      <td>-5.58</td>\n",
       "      <td>NaN</td>\n",
       "      <td>6.518504</td>\n",
       "      <td>NaN</td>\n",
       "    </tr>\n",
       "    <tr>\n",
       "      <th>2</th>\n",
       "      <td>train_a</td>\n",
       "      <td>0 days 00:02:00</td>\n",
       "      <td>-5.15</td>\n",
       "      <td>3.66</td>\n",
       "      <td>0.85</td>\n",
       "      <td>False</td>\n",
       "      <td>-5.15</td>\n",
       "      <td>NaN</td>\n",
       "      <td>6.374998</td>\n",
       "      <td>NaN</td>\n",
       "    </tr>\n",
       "    <tr>\n",
       "      <th>3</th>\n",
       "      <td>train_a</td>\n",
       "      <td>0 days 00:03:00</td>\n",
       "      <td>-5.20</td>\n",
       "      <td>3.68</td>\n",
       "      <td>0.68</td>\n",
       "      <td>False</td>\n",
       "      <td>-5.20</td>\n",
       "      <td>NaN</td>\n",
       "      <td>6.406622</td>\n",
       "      <td>NaN</td>\n",
       "    </tr>\n",
       "    <tr>\n",
       "      <th>4</th>\n",
       "      <td>train_a</td>\n",
       "      <td>0 days 00:04:00</td>\n",
       "      <td>-5.12</td>\n",
       "      <td>3.68</td>\n",
       "      <td>0.49</td>\n",
       "      <td>False</td>\n",
       "      <td>-5.12</td>\n",
       "      <td>-5.32</td>\n",
       "      <td>6.324310</td>\n",
       "      <td>0.225721</td>\n",
       "    </tr>\n",
       "  </tbody>\n",
       "</table>\n",
       "</div>"
      ],
      "text/plain": [
       "    period        timedelta  bx_gse  by_gse  bz_gse  Irregular_Activity  \\\n",
       "0  train_a  0 days 00:00:00   -5.55    3.00    1.25               False   \n",
       "1  train_a  0 days 00:01:00   -5.58    3.16    1.17               False   \n",
       "2  train_a  0 days 00:02:00   -5.15    3.66    0.85               False   \n",
       "3  train_a  0 days 00:03:00   -5.20    3.68    0.68               False   \n",
       "4  train_a  0 days 00:04:00   -5.12    3.68    0.49               False   \n",
       "\n",
       "   filtered_x  Running Mean  Magnitude  Runnning Deviation  \n",
       "0       -5.55           NaN   6.431563                 NaN  \n",
       "1       -5.58           NaN   6.518504                 NaN  \n",
       "2       -5.15           NaN   6.374998                 NaN  \n",
       "3       -5.20           NaN   6.406622                 NaN  \n",
       "4       -5.12         -5.32   6.324310            0.225721  "
      ]
     },
     "execution_count": 37,
     "metadata": {},
     "output_type": "execute_result"
    }
   ],
   "source": [
    "filtered_train_a.head()"
   ]
  },
  {
   "cell_type": "code",
   "execution_count": 38,
   "metadata": {},
   "outputs": [],
   "source": [
    "main_dataset = filtered_train_a.drop(['period', 'bx_gse', 'by_gse', 'bz_gse'], axis=1)\n",
    "main_dataset = main_dataset.dropna()"
   ]
  },
  {
   "cell_type": "code",
   "execution_count": 39,
   "metadata": {},
   "outputs": [
    {
     "data": {
      "text/html": [
       "<div>\n",
       "<style scoped>\n",
       "    .dataframe tbody tr th:only-of-type {\n",
       "        vertical-align: middle;\n",
       "    }\n",
       "\n",
       "    .dataframe tbody tr th {\n",
       "        vertical-align: top;\n",
       "    }\n",
       "\n",
       "    .dataframe thead th {\n",
       "        text-align: right;\n",
       "    }\n",
       "</style>\n",
       "<table border=\"1\" class=\"dataframe\">\n",
       "  <thead>\n",
       "    <tr style=\"text-align: right;\">\n",
       "      <th></th>\n",
       "      <th>timedelta</th>\n",
       "      <th>Irregular_Activity</th>\n",
       "      <th>filtered_x</th>\n",
       "      <th>Running Mean</th>\n",
       "      <th>Magnitude</th>\n",
       "      <th>Runnning Deviation</th>\n",
       "    </tr>\n",
       "  </thead>\n",
       "  <tbody>\n",
       "    <tr>\n",
       "      <th>4</th>\n",
       "      <td>0 days 00:04:00</td>\n",
       "      <td>False</td>\n",
       "      <td>-5.12</td>\n",
       "      <td>-5.320</td>\n",
       "      <td>6.324310</td>\n",
       "      <td>0.225721</td>\n",
       "    </tr>\n",
       "    <tr>\n",
       "      <th>5</th>\n",
       "      <td>0 days 00:05:00</td>\n",
       "      <td>False</td>\n",
       "      <td>-4.78</td>\n",
       "      <td>-5.166</td>\n",
       "      <td>6.144144</td>\n",
       "      <td>0.284570</td>\n",
       "    </tr>\n",
       "    <tr>\n",
       "      <th>6</th>\n",
       "      <td>0 days 00:06:00</td>\n",
       "      <td>False</td>\n",
       "      <td>-5.15</td>\n",
       "      <td>-5.080</td>\n",
       "      <td>6.265285</td>\n",
       "      <td>0.170147</td>\n",
       "    </tr>\n",
       "    <tr>\n",
       "      <th>7</th>\n",
       "      <td>0 days 00:07:00</td>\n",
       "      <td>False</td>\n",
       "      <td>-5.35</td>\n",
       "      <td>-5.120</td>\n",
       "      <td>6.280939</td>\n",
       "      <td>0.209643</td>\n",
       "    </tr>\n",
       "    <tr>\n",
       "      <th>8</th>\n",
       "      <td>0 days 00:08:00</td>\n",
       "      <td>False</td>\n",
       "      <td>-5.77</td>\n",
       "      <td>-5.234</td>\n",
       "      <td>6.407956</td>\n",
       "      <td>0.362946</td>\n",
       "    </tr>\n",
       "  </tbody>\n",
       "</table>\n",
       "</div>"
      ],
      "text/plain": [
       "         timedelta  Irregular_Activity  filtered_x  Running Mean  Magnitude  \\\n",
       "4  0 days 00:04:00               False       -5.12        -5.320   6.324310   \n",
       "5  0 days 00:05:00               False       -4.78        -5.166   6.144144   \n",
       "6  0 days 00:06:00               False       -5.15        -5.080   6.265285   \n",
       "7  0 days 00:07:00               False       -5.35        -5.120   6.280939   \n",
       "8  0 days 00:08:00               False       -5.77        -5.234   6.407956   \n",
       "\n",
       "   Runnning Deviation  \n",
       "4            0.225721  \n",
       "5            0.284570  \n",
       "6            0.170147  \n",
       "7            0.209643  \n",
       "8            0.362946  "
      ]
     },
     "execution_count": 39,
     "metadata": {},
     "output_type": "execute_result"
    }
   ],
   "source": [
    "main_dataset.head()"
   ]
  },
  {
   "cell_type": "markdown",
   "metadata": {},
   "source": [
    "## Data Preprocesing"
   ]
  },
  {
   "cell_type": "code",
   "execution_count": null,
   "metadata": {},
   "outputs": [
    {
     "data": {
      "text/html": [
       "<div>\n",
       "<style scoped>\n",
       "    .dataframe tbody tr th:only-of-type {\n",
       "        vertical-align: middle;\n",
       "    }\n",
       "\n",
       "    .dataframe tbody tr th {\n",
       "        vertical-align: top;\n",
       "    }\n",
       "\n",
       "    .dataframe thead th {\n",
       "        text-align: right;\n",
       "    }\n",
       "</style>\n",
       "<table border=\"1\" class=\"dataframe\">\n",
       "  <thead>\n",
       "    <tr style=\"text-align: right;\">\n",
       "      <th></th>\n",
       "      <th>Irregular_Activity</th>\n",
       "      <th>filtered_x</th>\n",
       "      <th>Running Mean</th>\n",
       "      <th>Magnitude</th>\n",
       "      <th>Runnning Deviation</th>\n",
       "      <th>minutes</th>\n",
       "    </tr>\n",
       "  </thead>\n",
       "  <tbody>\n",
       "    <tr>\n",
       "      <th>4</th>\n",
       "      <td>False</td>\n",
       "      <td>-5.12</td>\n",
       "      <td>-5.320</td>\n",
       "      <td>6.324310</td>\n",
       "      <td>0.225721</td>\n",
       "      <td>4</td>\n",
       "    </tr>\n",
       "    <tr>\n",
       "      <th>5</th>\n",
       "      <td>False</td>\n",
       "      <td>-4.78</td>\n",
       "      <td>-5.166</td>\n",
       "      <td>6.144144</td>\n",
       "      <td>0.284570</td>\n",
       "      <td>5</td>\n",
       "    </tr>\n",
       "    <tr>\n",
       "      <th>6</th>\n",
       "      <td>False</td>\n",
       "      <td>-5.15</td>\n",
       "      <td>-5.080</td>\n",
       "      <td>6.265285</td>\n",
       "      <td>0.170147</td>\n",
       "      <td>6</td>\n",
       "    </tr>\n",
       "    <tr>\n",
       "      <th>7</th>\n",
       "      <td>False</td>\n",
       "      <td>-5.35</td>\n",
       "      <td>-5.120</td>\n",
       "      <td>6.280939</td>\n",
       "      <td>0.209643</td>\n",
       "      <td>7</td>\n",
       "    </tr>\n",
       "    <tr>\n",
       "      <th>8</th>\n",
       "      <td>False</td>\n",
       "      <td>-5.77</td>\n",
       "      <td>-5.234</td>\n",
       "      <td>6.407956</td>\n",
       "      <td>0.362946</td>\n",
       "      <td>8</td>\n",
       "    </tr>\n",
       "  </tbody>\n",
       "</table>\n",
       "</div>"
      ],
      "text/plain": [
       "   Irregular_Activity  filtered_x  Running Mean  Magnitude  \\\n",
       "4               False       -5.12        -5.320   6.324310   \n",
       "5               False       -4.78        -5.166   6.144144   \n",
       "6               False       -5.15        -5.080   6.265285   \n",
       "7               False       -5.35        -5.120   6.280939   \n",
       "8               False       -5.77        -5.234   6.407956   \n",
       "\n",
       "   Runnning Deviation  minutes  \n",
       "4            0.225721        4  \n",
       "5            0.284570        5  \n",
       "6            0.170147        6  \n",
       "7            0.209643        7  \n",
       "8            0.362946        8  "
      ]
     },
     "execution_count": 46,
     "metadata": {},
     "output_type": "execute_result"
    }
   ],
   "source": [
    "def duration_to_minutes(duration_str):\n",
    "    days_part, time_part = duration_str.split(\" days \")\n",
    "    days = int(days_part)\n",
    "    hours, minutes, seconds = map(int, time_part.split(\":\"))\n",
    "    return days * 24 * 60 + hours * 60 + minutes + seconds // 60\n",
    "\n",
    "\n",
    "main_dataset['minutes'] = df['timedelta'].apply(duration_to_minutes)\n",
    "main_dataset = main_dataset.drop(['timedelta'], axis=1)\n",
    "main_dataset.head()\n",
    "\n"
   ]
  },
  {
   "cell_type": "code",
   "execution_count": 47,
   "metadata": {},
   "outputs": [],
   "source": [
    "scaler = StandardScaler()\n",
    "X_scaled = scaler.fit_transform(main_dataset)"
   ]
  },
  {
   "cell_type": "code",
   "execution_count": 48,
   "metadata": {},
   "outputs": [
    {
     "data": {
      "text/plain": [
       "array([[-0.03076865, -0.82893703, -0.88770148, -0.1895833 , -0.43653199,\n",
       "        -1.79627183],\n",
       "       [-0.03076865, -0.74647603, -0.84991483, -0.24267774, -0.32528224,\n",
       "        -1.7962698 ],\n",
       "       [-0.03076865, -0.836213  , -0.82881319, -0.20697772, -0.54159111,\n",
       "        -1.79626777],\n",
       "       ...,\n",
       "       [-0.03076865, -0.39965479, -0.47940931, -0.58494775, -0.37143917,\n",
       "         1.71100377],\n",
       "       [-0.03076865, -0.38025221, -0.46076135, -0.60801761, -0.27234982,\n",
       "         1.7110058 ],\n",
       "       [-0.03076865, -0.37782688, -0.44456707, -0.61524622, -0.21432529,\n",
       "         1.71100783]], shape=(1562674, 6))"
      ]
     },
     "execution_count": 48,
     "metadata": {},
     "output_type": "execute_result"
    }
   ],
   "source": [
    "X_scaled"
   ]
  },
  {
   "cell_type": "code",
   "execution_count": null,
   "metadata": {},
   "outputs": [],
   "source": []
  }
 ],
 "metadata": {
  "kernelspec": {
   "display_name": ".venv",
   "language": "python",
   "name": "python3"
  },
  "language_info": {
   "codemirror_mode": {
    "name": "ipython",
    "version": 3
   },
   "file_extension": ".py",
   "mimetype": "text/x-python",
   "name": "python",
   "nbconvert_exporter": "python",
   "pygments_lexer": "ipython3",
   "version": "3.13.1"
  }
 },
 "nbformat": 4,
 "nbformat_minor": 2
}
